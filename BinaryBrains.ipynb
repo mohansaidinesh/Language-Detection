{
  "nbformat": 4,
  "nbformat_minor": 0,
  "metadata": {
    "colab": {
      "provenance": [],
      "authorship_tag": "ABX9TyOLHpO9UFw8Qb5bipPlVJA5",
      "include_colab_link": true
    },
    "kernelspec": {
      "name": "python3",
      "display_name": "Python 3"
    },
    "language_info": {
      "name": "python"
    }
  },
  "cells": [
    {
      "cell_type": "markdown",
      "metadata": {
        "id": "view-in-github",
        "colab_type": "text"
      },
      "source": [
        "<a href=\"https://colab.research.google.com/github/mohansaidinesh/Language-Detection/blob/main/BinaryBrains.ipynb\" target=\"_parent\"><img src=\"https://colab.research.google.com/assets/colab-badge.svg\" alt=\"Open In Colab\"/></a>"
      ]
    },
    {
      "cell_type": "markdown",
      "source": [
        "\n",
        "#**LANGUAGE DETECTION**"
      ],
      "metadata": {
        "id": "CybSxzgYuNzt"
      }
    },
    {
      "cell_type": "markdown",
      "source": [
        "Language detection refers to the process of automatically identifying the language of a given text or document. This is an important task in natural language processing and is used in many applications, such as language translation, content filtering, and search engines.There are several techniques used for language detection, including\n",
        "\n",
        "\n",
        "*   Built in Packages\n",
        "*   Machine learning algorithms\n",
        "\n",
        "\n",
        "\n"
      ],
      "metadata": {
        "id": "-QoUGt2EJkcr"
      }
    },
    {
      "cell_type": "markdown",
      "source": [
        "##**Built-in Package:** \n",
        "\n",
        "\n",
        "Many programming languages provide built-in packages for language detection. For example, in Python, the langdetect package can be used to detect the language of text. This package uses n-grams and a Bayesian classifier to detect the language. It provides high accuracy and supports over 55 languages. "
      ],
      "metadata": {
        "id": "azMBiUN6dC58"
      }
    },
    {
      "cell_type": "markdown",
      "source": [
        "1. **LangDetect** : \n",
        "This library is the direct port of Google’s language-detection library from Java to Python and can recognize over 50 languages"
      ],
      "metadata": {
        "id": "Y96Z2nh1dQIl"
      }
    },
    {
      "cell_type": "code",
      "source": [
        "!pip install langdetect"
      ],
      "metadata": {
        "colab": {
          "base_uri": "https://localhost:8080/"
        },
        "id": "xTqN4cgvgsZA",
        "outputId": "cb8acff2-3dd2-49c6-d458-f2d463798d55"
      },
      "execution_count": null,
      "outputs": [
        {
          "output_type": "stream",
          "name": "stdout",
          "text": [
            "Looking in indexes: https://pypi.org/simple, https://us-python.pkg.dev/colab-wheels/public/simple/\n",
            "Collecting langdetect\n",
            "  Downloading langdetect-1.0.9.tar.gz (981 kB)\n",
            "\u001b[2K     \u001b[90m━━━━━━━━━━━━━━━━━━━━━━━━━━━━━━━━━━━━━━\u001b[0m \u001b[32m981.5/981.5 KB\u001b[0m \u001b[31m14.6 MB/s\u001b[0m eta \u001b[36m0:00:00\u001b[0m\n",
            "\u001b[?25h  Preparing metadata (setup.py) ... \u001b[?25l\u001b[?25hdone\n",
            "Requirement already satisfied: six in /usr/local/lib/python3.8/dist-packages (from langdetect) (1.15.0)\n",
            "Building wheels for collected packages: langdetect\n",
            "  Building wheel for langdetect (setup.py) ... \u001b[?25l\u001b[?25hdone\n",
            "  Created wheel for langdetect: filename=langdetect-1.0.9-py3-none-any.whl size=993242 sha256=9708a63d5d3f863820e3b8963e7f2c2312cc01e674719199ba1ae31294ee84cc\n",
            "  Stored in directory: /root/.cache/pip/wheels/13/c7/b0/79f66658626032e78fc1a83103690ef6797d551cb22e56e734\n",
            "Successfully built langdetect\n",
            "Installing collected packages: langdetect\n",
            "Successfully installed langdetect-1.0.9\n"
          ]
        }
      ]
    },
    {
      "cell_type": "code",
      "source": [
        "from langdetect import detect, detect_langs\n",
        "def language_detection(text, method = \"single\"):\n",
        "  if(method.lower() != \"single\"):\n",
        "    result = detect_langs(text)\n",
        "  else:\n",
        "    result = detect(text)\n",
        "  return result"
      ],
      "metadata": {
        "id": "429xyjpFgvro"
      },
      "execution_count": null,
      "outputs": []
    },
    {
      "cell_type": "code",
      "source": [
        "text = \"\"\"This library is the direct port of Google's language-detection library from Java to Python. Elle est vraiment éfficace dans la détection de langue.\"\"\"\n",
        "print(language_detection(text))\n",
        "print(language_detection(text,'all languages'))"
      ],
      "metadata": {
        "colab": {
          "base_uri": "https://localhost:8080/"
        },
        "id": "epOQyIAHg18q",
        "outputId": "f14c3479-f46e-452d-d4ed-c35e133bf8f3"
      },
      "execution_count": null,
      "outputs": [
        {
          "output_type": "stream",
          "name": "stdout",
          "text": [
            "en\n",
            "[en:0.7142827346324744, fr:0.28571720156579056]\n"
          ]
        }
      ]
    },
    {
      "cell_type": "markdown",
      "source": [
        "**CONCLUSION** : \n",
        "\n",
        "There are several packages available some of them are Spacy-langdetect,  fastText, gcld3 and textblob there are also some drawbacks to relying solely on these packages for language detection: Limited language support, Lack of customization, Performance limitations and Quality concerns"
      ],
      "metadata": {
        "id": "Nhi3-UJgg4vU"
      }
    },
    {
      "cell_type": "markdown",
      "source": [
        "##**Machine learning algorithms**\n",
        "\n",
        "Creating your own language model and using it to detect the language. This method is more time-consuming and requires more resources than using a built-in package, but it provides more control over the language detection process.This step involves 3 ways \n",
        "\n",
        "\n",
        "*   Statistical Analysis\n",
        "\n",
        "*   Machine Learning algorithms\n",
        "*   Deep Learning\n",
        "\n",
        "\n"
      ],
      "metadata": {
        "id": "pHcsViTJd64N"
      }
    },
    {
      "cell_type": "markdown",
      "source": [
        "##**Statistical analysis**"
      ],
      "metadata": {
        "id": "WcYdK8wIKXKX"
      }
    },
    {
      "cell_type": "markdown",
      "source": [
        "Statistical analysis is one of the techniques used for language detection. It involves analyzing the frequency of characters, words, and other features in a given text to identify the language. One common statistical analysis technique for language detection is n-gram analysis. This involves breaking the text into sequences of n characters or words and comparing these sequences to known language models to identify the language."
      ],
      "metadata": {
        "id": "EVX8kWwmLa1O"
      }
    },
    {
      "cell_type": "markdown",
      "source": [
        " Visualising some n-grams of different lengths"
      ],
      "metadata": {
        "id": "y4vHqzIuL1Kj"
      }
    },
    {
      "cell_type": "code",
      "source": [
        "text = \"This is a test text\"\n",
        "n = 3\n",
        "text_len = len(text)\n",
        "num_ngrams = text_len - n + 1\n",
        "print(f\"The text is {text_len} characters long and will fit {num_ngrams} n-grams of length {n}.\")\n",
        "for p in range(num_ngrams) :\n",
        "            print(f\"{p}: {text[p:p+n]}\")\n"
      ],
      "metadata": {
        "colab": {
          "base_uri": "https://localhost:8080/"
        },
        "id": "kCUEHEfULmgS",
        "outputId": "39deb7d3-06a3-4584-86e3-b6773ba5a607"
      },
      "execution_count": null,
      "outputs": [
        {
          "output_type": "stream",
          "name": "stdout",
          "text": [
            "The text is 19 characters long and will fit 17 n-grams of length 3.\n",
            "0: Thi\n",
            "1: his\n",
            "2: is \n",
            "3: s i\n",
            "4:  is\n",
            "5: is \n",
            "6: s a\n",
            "7:  a \n",
            "8: a t\n",
            "9:  te\n",
            "10: tes\n",
            "11: est\n",
            "12: st \n",
            "13: t t\n",
            "14:  te\n",
            "15: tex\n",
            "16: ext\n"
          ]
        }
      ]
    },
    {
      "cell_type": "markdown",
      "source": [
        "Build an N-Gram Extractor\n"
      ],
      "metadata": {
        "id": "12O7PtA5L5Tu"
      }
    },
    {
      "cell_type": "code",
      "source": [
        "import typing\n",
        "def extract_xgrams(text: str, n_vals: typing.List[int]) -> typing.List[str]:\n",
        "    xgrams = []\n",
        "    for n in n_vals:\n",
        "        if n < len(text):\n",
        "            for i in range(len(text) - n + 1) :\n",
        "                ng = text[i:i+n]\n",
        "                xgrams.append(ng)\n",
        "    return xgrams\n",
        "text = \"I was taught that the way of progress was neither swift nor easy.\".lower()\n",
        "xgrams = extract_xgrams(text, n_vals=range(1,4))\n",
        "print(xgrams)"
      ],
      "metadata": {
        "colab": {
          "base_uri": "https://localhost:8080/"
        },
        "id": "fQZ8JPaUMAmT",
        "outputId": "52570da4-0faf-4560-a725-86c7e0881e80"
      },
      "execution_count": null,
      "outputs": [
        {
          "output_type": "stream",
          "name": "stdout",
          "text": [
            "['i', ' ', 'w', 'a', 's', ' ', 't', 'a', 'u', 'g', 'h', 't', ' ', 't', 'h', 'a', 't', ' ', 't', 'h', 'e', ' ', 'w', 'a', 'y', ' ', 'o', 'f', ' ', 'p', 'r', 'o', 'g', 'r', 'e', 's', 's', ' ', 'w', 'a', 's', ' ', 'n', 'e', 'i', 't', 'h', 'e', 'r', ' ', 's', 'w', 'i', 'f', 't', ' ', 'n', 'o', 'r', ' ', 'e', 'a', 's', 'y', '.', 'i ', ' w', 'wa', 'as', 's ', ' t', 'ta', 'au', 'ug', 'gh', 'ht', 't ', ' t', 'th', 'ha', 'at', 't ', ' t', 'th', 'he', 'e ', ' w', 'wa', 'ay', 'y ', ' o', 'of', 'f ', ' p', 'pr', 'ro', 'og', 'gr', 're', 'es', 'ss', 's ', ' w', 'wa', 'as', 's ', ' n', 'ne', 'ei', 'it', 'th', 'he', 'er', 'r ', ' s', 'sw', 'wi', 'if', 'ft', 't ', ' n', 'no', 'or', 'r ', ' e', 'ea', 'as', 'sy', 'y.', 'i w', ' wa', 'was', 'as ', 's t', ' ta', 'tau', 'aug', 'ugh', 'ght', 'ht ', 't t', ' th', 'tha', 'hat', 'at ', 't t', ' th', 'the', 'he ', 'e w', ' wa', 'way', 'ay ', 'y o', ' of', 'of ', 'f p', ' pr', 'pro', 'rog', 'ogr', 'gre', 'res', 'ess', 'ss ', 's w', ' wa', 'was', 'as ', 's n', ' ne', 'nei', 'eit', 'ith', 'the', 'her', 'er ', 'r s', ' sw', 'swi', 'wif', 'ift', 'ft ', 't n', ' no', 'nor', 'or ', 'r e', ' ea', 'eas', 'asy', 'sy.']\n"
          ]
        }
      ]
    },
    {
      "cell_type": "markdown",
      "source": [
        " Function for Building a Language Model"
      ],
      "metadata": {
        "id": "LS1sr5dnNSKJ"
      }
    },
    {
      "cell_type": "code",
      "source": [
        "import collections\n",
        "def build_model(text: str, n_vals: typing.List[int]) -> typing.Dict[str, int]:\n",
        "    model = collections.Counter(extract_xgrams(text, n_vals))  \n",
        "    num_ngrams = sum(model.values())\n",
        "    for ng in model:\n",
        "        model[ng] = model[ng] / num_ngrams\n",
        "    return model\n",
        "test_model = build_model(text, n_vals=range(1,4))\n",
        "print({k: v for k, v in sorted(test_model.items(), key=lambda item: item[1], reverse=True)})"
      ],
      "metadata": {
        "colab": {
          "base_uri": "https://localhost:8080/"
        },
        "id": "8QqVmzSQMPh0",
        "outputId": "3cd4f654-c9e3-48da-f4a1-230b7fd2f28d"
      },
      "execution_count": null,
      "outputs": [
        {
          "output_type": "stream",
          "name": "stdout",
          "text": [
            "{' ': 0.0625, 't': 0.036458333333333336, 'a': 0.03125, 's': 0.03125, 'e': 0.026041666666666668, 'w': 0.020833333333333332, 'h': 0.020833333333333332, 'r': 0.020833333333333332, 'i': 0.015625, 'o': 0.015625, ' w': 0.015625, 'wa': 0.015625, 'as': 0.015625, 's ': 0.015625, ' t': 0.015625, 't ': 0.015625, 'th': 0.015625, ' wa': 0.015625, 'g': 0.010416666666666666, 'y': 0.010416666666666666, 'f': 0.010416666666666666, 'n': 0.010416666666666666, 'he': 0.010416666666666666, ' n': 0.010416666666666666, 'r ': 0.010416666666666666, 'was': 0.010416666666666666, 'as ': 0.010416666666666666, 't t': 0.010416666666666666, ' th': 0.010416666666666666, 'the': 0.010416666666666666, 'u': 0.005208333333333333, 'p': 0.005208333333333333, '.': 0.005208333333333333, 'i ': 0.005208333333333333, 'ta': 0.005208333333333333, 'au': 0.005208333333333333, 'ug': 0.005208333333333333, 'gh': 0.005208333333333333, 'ht': 0.005208333333333333, 'ha': 0.005208333333333333, 'at': 0.005208333333333333, 'e ': 0.005208333333333333, 'ay': 0.005208333333333333, 'y ': 0.005208333333333333, ' o': 0.005208333333333333, 'of': 0.005208333333333333, 'f ': 0.005208333333333333, ' p': 0.005208333333333333, 'pr': 0.005208333333333333, 'ro': 0.005208333333333333, 'og': 0.005208333333333333, 'gr': 0.005208333333333333, 're': 0.005208333333333333, 'es': 0.005208333333333333, 'ss': 0.005208333333333333, 'ne': 0.005208333333333333, 'ei': 0.005208333333333333, 'it': 0.005208333333333333, 'er': 0.005208333333333333, ' s': 0.005208333333333333, 'sw': 0.005208333333333333, 'wi': 0.005208333333333333, 'if': 0.005208333333333333, 'ft': 0.005208333333333333, 'no': 0.005208333333333333, 'or': 0.005208333333333333, ' e': 0.005208333333333333, 'ea': 0.005208333333333333, 'sy': 0.005208333333333333, 'y.': 0.005208333333333333, 'i w': 0.005208333333333333, 's t': 0.005208333333333333, ' ta': 0.005208333333333333, 'tau': 0.005208333333333333, 'aug': 0.005208333333333333, 'ugh': 0.005208333333333333, 'ght': 0.005208333333333333, 'ht ': 0.005208333333333333, 'tha': 0.005208333333333333, 'hat': 0.005208333333333333, 'at ': 0.005208333333333333, 'he ': 0.005208333333333333, 'e w': 0.005208333333333333, 'way': 0.005208333333333333, 'ay ': 0.005208333333333333, 'y o': 0.005208333333333333, ' of': 0.005208333333333333, 'of ': 0.005208333333333333, 'f p': 0.005208333333333333, ' pr': 0.005208333333333333, 'pro': 0.005208333333333333, 'rog': 0.005208333333333333, 'ogr': 0.005208333333333333, 'gre': 0.005208333333333333, 'res': 0.005208333333333333, 'ess': 0.005208333333333333, 'ss ': 0.005208333333333333, 's w': 0.005208333333333333, 's n': 0.005208333333333333, ' ne': 0.005208333333333333, 'nei': 0.005208333333333333, 'eit': 0.005208333333333333, 'ith': 0.005208333333333333, 'her': 0.005208333333333333, 'er ': 0.005208333333333333, 'r s': 0.005208333333333333, ' sw': 0.005208333333333333, 'swi': 0.005208333333333333, 'wif': 0.005208333333333333, 'ift': 0.005208333333333333, 'ft ': 0.005208333333333333, 't n': 0.005208333333333333, ' no': 0.005208333333333333, 'nor': 0.005208333333333333, 'or ': 0.005208333333333333, 'r e': 0.005208333333333333, ' ea': 0.005208333333333333, 'eas': 0.005208333333333333, 'asy': 0.005208333333333333, 'sy.': 0.005208333333333333}\n"
          ]
        }
      ]
    },
    {
      "cell_type": "markdown",
      "source": [
        "Install NLTK and Download Our Text Data"
      ],
      "metadata": {
        "id": "aLot-e_aNZlP"
      }
    },
    {
      "cell_type": "code",
      "source": [
        "import nltk\n",
        "nltk.download('udhr') \n",
        "from nltk.corpus import udhr \n",
        "print(f\"There are {len(udhr.fileids())} files with the following ids: {udhr.fileids()}\")"
      ],
      "metadata": {
        "colab": {
          "base_uri": "https://localhost:8080/"
        },
        "id": "RsWkJpviMXcd",
        "outputId": "c7403486-7501-46c7-857d-3394d66ca924"
      },
      "execution_count": null,
      "outputs": [
        {
          "output_type": "stream",
          "name": "stdout",
          "text": [
            "There are 310 files with the following ids: ['Abkhaz-Cyrillic+Abkh', 'Abkhaz-UTF8', 'Achehnese-Latin1', 'Achuar-Shiwiar-Latin1', 'Adja-UTF8', 'Afaan_Oromo_Oromiffa-Latin1', 'Afrikaans-Latin1', 'Aguaruna-Latin1', 'Akuapem_Twi-UTF8', 'Albanian_Shqip-Latin1', 'Amahuaca', 'Amahuaca-Latin1', 'Amarakaeri-Latin1', 'Amuesha-Yanesha-UTF8', 'Arabela-Latin1', 'Arabic_Alarabia-Arabic', 'Asante-UTF8', 'Ashaninca-Latin1', 'Asheninca-Latin1', 'Asturian_Bable-Latin1', 'Aymara-Latin1', 'Balinese-Latin1', 'Bambara-UTF8', 'Baoule-UTF8', 'Basque_Euskara-Latin1', 'Batonu_Bariba-UTF8', 'Belorus_Belaruski-Cyrillic', 'Belorus_Belaruski-UTF8', 'Bemba-Latin1', 'Bengali-UTF8', 'Beti-UTF8', 'Bichelamar-Latin1', 'Bikol_Bicolano-Latin1', 'Bora-Latin1', 'Bosnian_Bosanski-Cyrillic', 'Bosnian_Bosanski-Latin2', 'Bosnian_Bosanski-UTF8', 'Breton-Latin1', 'Bugisnese-Latin1', 'Bulgarian_Balgarski-Cyrillic', 'Bulgarian_Balgarski-UTF8', 'Cakchiquel-Latin1', 'Campa_Pajonalino-Latin1', 'Candoshi-Shapra-Latin1', 'Caquinte-Latin1', 'Cashibo-Cacataibo-Latin1', 'Cashinahua-Latin1', 'Catalan-Latin1', 'Catalan_Catala-Latin1', 'Cebuano-Latin1', 'Chamorro-Latin1', 'Chayahuita-Latin1', 'Chechewa_Nyanja-Latin1', 'Chickasaw-Latin1', 'Chinanteco-Ajitlan-Latin1', 'Chinanteco-UTF8', 'Chinese_Mandarin-GB2312', 'Chuuk_Trukese-Latin1', 'Cokwe-Latin1', 'Corsican-Latin1', 'Croatian_Hrvatski-Latin2', 'Czech-Latin2', 'Czech-UTF8', 'Czech_Cesky-Latin2', 'Czech_Cesky-UTF8', 'Dagaare-UTF8', 'Dagbani-UTF8', 'Dangme-UTF8', 'Danish_Dansk-Latin1', 'Dendi-UTF8', 'Ditammari-UTF8', 'Dutch_Nederlands-Latin1', 'Edo-Latin1', 'English-Latin1', 'Esperanto-UTF8', 'Estonian_Eesti-Latin1', 'Ewe_Eve-UTF8', 'Fante-UTF8', 'Faroese-Latin1', 'Farsi_Persian-UTF8', 'Farsi_Persian-v2-UTF8', 'Fijian-Latin1', 'Filipino_Tagalog-Latin1', 'Finnish_Suomi-Latin1', 'Fon-UTF8', 'French_Francais-Latin1', 'Frisian-Latin1', 'Friulian_Friulano-Latin1', 'Ga-UTF8', 'Gagauz_Gagauzi-UTF8', 'Galician_Galego-Latin1', 'Garifuna_Garifuna-Latin1', 'German_Deutsch-Latin1', 'Gonja-UTF8', 'Greek_Ellinika-Greek', 'Greek_Ellinika-UTF8', 'Greenlandic_Inuktikut-Latin1', 'Guarani-Latin1', 'Guen_Mina-UTF8', 'HaitianCreole_Kreyol-Latin1', 'HaitianCreole_Popular-Latin1', 'Hani-Latin1', 'Hausa_Haoussa-Latin1', 'Hawaiian-UTF8', 'Hebrew_Ivrit-Hebrew', 'Hebrew_Ivrit-UTF8', 'Hiligaynon-Latin1', 'Hindi-UTF8', 'Hindi_web-UTF8', 'Hmong_Miao-Sichuan-Guizhou-Yunnan-Latin1', 'Hmong_Miao-SouthernEast-Guizhou-Latin1', 'Hmong_Miao_Northern-East-Guizhou-Latin1', 'Hrvatski_Croatian-Latin2', 'Huasteco-Latin1', 'Huitoto_Murui-Latin1', 'Hungarian_Magyar-Latin1', 'Hungarian_Magyar-Latin2', 'Hungarian_Magyar-UTF8', 'Ibibio_Efik-Latin1', 'Icelandic_Yslenska-Latin1', 'Ido-Latin1', 'Igbo-UTF8', 'Iloko_Ilocano-Latin1', 'Indonesian-Latin1', 'Interlingua-Latin1', 'Inuktikut_Greenlandic-Latin1', 'IrishGaelic_Gaeilge-Latin1', 'Italian-Latin1', 'Italian_Italiano-Latin1', 'Japanese_Nihongo-EUC', 'Japanese_Nihongo-SJIS', 'Japanese_Nihongo-UTF8', 'Javanese-Latin1', 'Jola-Fogny_Diola-UTF8', 'Kabye-UTF8', 'Kannada-UTF8', 'Kaonde-Latin1', 'Kapampangan-Latin1', 'Kasem-UTF8', 'Kazakh-Cyrillic', 'Kazakh-UTF8', 'Kiche_Quiche-Latin1', 'Kicongo-Latin1', 'Kimbundu_Mbundu-Latin1', 'Kinyamwezi_Nyamwezi-Latin1', 'Kinyarwanda-Latin1', 'Kituba-Latin1', 'Korean_Hankuko-UTF8', 'Kpelewo-UTF8', 'Krio-UTF8', 'Kurdish-UTF8', 'Lamnso_Lam-nso-UTF8', 'Latin_Latina-Latin1', 'Latin_Latina-v2-Latin1', 'Latvian-Latin1', 'Limba-UTF8', 'Lingala-Latin1', 'Lithuanian_Lietuviskai-Baltic', 'Lozi-Latin1', 'Luba-Kasai_Tshiluba-Latin1', 'Luganda_Ganda-Latin1', 'Lunda_Chokwe-lunda-Latin1', 'Luvale-Latin1', 'Luxembourgish_Letzebuergeusch-Latin1', 'Macedonian-UTF8', 'Madurese-Latin1', 'Makonde-Latin1', 'Malagasy-Latin1', 'Malay_BahasaMelayu-Latin1', 'Maltese-UTF8', 'Mam-Latin1', 'Maninka-UTF8', 'Maori-Latin1', 'Mapudungun_Mapuzgun-Latin1', 'Mapudungun_Mapuzgun-UTF8', 'Marshallese-Latin1', 'Matses-Latin1', 'Mayan_Yucateco-Latin1', 'Mazahua_Jnatrjo-UTF8', 'Mazateco-Latin1', 'Mende-UTF8', 'Mikmaq_Micmac-Mikmaq-Latin1', 'Minangkabau-Latin1', 'Miskito_Miskito-Latin1', 'Mixteco-Latin1', 'Mongolian_Khalkha-Cyrillic', 'Mongolian_Khalkha-UTF8', 'Moore_More-UTF8', 'Nahuatl-Latin1', 'Ndebele-Latin1', 'Nepali-UTF8', 'Ngangela_Nyemba-Latin1', 'NigerianPidginEnglish-Latin1', 'Nomatsiguenga-Latin1', 'NorthernSotho_Pedi-Sepedi-Latin1', 'Norwegian-Latin1', 'Norwegian_Norsk-Bokmal-Latin1', 'Norwegian_Norsk-Nynorsk-Latin1', 'Nyanja_Chechewa-Latin1', 'Nyanja_Chinyanja-Latin1', 'Nzema-UTF8', 'OccitanAuvergnat-Latin1', 'OccitanLanguedocien-Latin1', 'Oromiffa_AfaanOromo-Latin1', 'Osetin_Ossetian-UTF8', 'Oshiwambo_Ndonga-Latin1', 'Otomi_Nahnu-Latin1', 'Paez-Latin1', 'Palauan-Latin1', 'Peuhl-UTF8', 'Picard-Latin1', 'Pipil-Latin1', 'Polish-Latin2', 'Polish_Polski-Latin2', 'Ponapean-Latin1', 'Portuguese_Portugues-Latin1', 'Pulaar-UTF8', 'Punjabi_Panjabi-UTF8', 'Purhepecha-UTF8', 'Qechi_Kekchi-Latin1', 'Quechua-Latin1', 'Quichua-Latin1', 'Rarotongan_MaoriCookIslands-Latin1', 'Rhaeto-Romance_Rumantsch-Latin1', 'Romani-Latin1', 'Romani-UTF8', 'Romanian-Latin2', 'Romanian_Romana-Latin2', 'Rukonzo_Konjo-Latin1', 'Rundi_Kirundi-Latin1', 'Runyankore-rukiga_Nkore-kiga-Latin1', 'Russian-Cyrillic', 'Russian-UTF8', 'Russian_Russky-Cyrillic', 'Russian_Russky-UTF8', 'Sami_Lappish-UTF8', 'Sammarinese-Latin1', 'Samoan-Latin1', 'Sango_Sangho-Latin1', 'Sanskrit-UTF8', 'Saraiki-UTF8', 'Sardinian-Latin1', 'ScottishGaelic_GaidhligAlbanach-Latin1', 'Seereer-UTF8', 'Serbian_Srpski-Cyrillic', 'Serbian_Srpski-Latin2', 'Serbian_Srpski-UTF8', 'Sharanahua-Latin1', 'Shipibo-Conibo-Latin1', 'Shona-Latin1', 'Sinhala-UTF8', 'Siswati-Latin1', 'Slovak-Latin2', 'Slovak_Slovencina-Latin2', 'Slovenian_Slovenscina-Latin2', 'SolomonsPidgin_Pijin-Latin1', 'Somali-Latin1', 'Soninke_Soninkanxaane-UTF8', 'Sorbian-Latin2', 'SouthernSotho_Sotho-Sesotho-Sutu-Sesutu-Latin1', 'Spanish-Latin1', 'Spanish_Espanol-Latin1', 'Sukuma-Latin1', 'Sundanese-Latin1', 'Sussu_Soussou-Sosso-Soso-Susu-UTF8', 'Swaheli-Latin1', 'Swahili_Kiswahili-Latin1', 'Swedish_Svenska-Latin1', 'Tahitian-UTF8', 'Tenek_Huasteco-Latin1', 'Tetum-Latin1', 'Themne_Temne-UTF8', 'Tiv-Latin1', 'Toba-UTF8', 'Tojol-abal-Latin1', 'TokPisin-Latin1', 'Tonga-Latin1', 'Tongan_Tonga-Latin1', 'Totonaco-Latin1', 'Trukese_Chuuk-Latin1', 'Turkish_Turkce-Turkish', 'Turkish_Turkce-UTF8', 'Tzeltal-Latin1', 'Tzotzil-Latin1', 'Uighur_Uyghur-Latin1', 'Uighur_Uyghur-UTF8', 'Ukrainian-Cyrillic', 'Ukrainian-UTF8', 'Umbundu-Latin1', 'Urarina-Latin1', 'Uzbek-Latin1', 'Vietnamese-ALRN-UTF8', 'Vietnamese-UTF8', 'Vlach-Latin1', 'Walloon_Wallon-Latin1', 'Wama-UTF8', 'Waray-Latin1', 'Wayuu-Latin1', 'Welsh_Cymraeg-Latin1', 'WesternSotho_Tswana-Setswana-Latin1', 'Wolof-Latin1', 'Xhosa-Latin1', 'Yagua-Latin1', 'Yao-Latin1', 'Yapese-Latin1', 'Yoruba-UTF8', 'Zapoteco-Latin1', 'Zapoteco-SanLucasQuiavini-Latin1', 'Zhuang-Latin1', 'Zulu-Latin1']\n"
          ]
        },
        {
          "output_type": "stream",
          "name": "stderr",
          "text": [
            "[nltk_data] Downloading package udhr to /root/nltk_data...\n",
            "[nltk_data]   Package udhr is already up-to-date!\n"
          ]
        }
      ]
    },
    {
      "cell_type": "code",
      "source": [
        "languages = ['english', 'german', 'dutch', 'french', 'italian', 'spanish','turkish','swaheli']\n",
        "language_ids = ['English-Latin1', 'German_Deutsch-Latin1', 'Dutch_Nederlands-Latin1', 'French_Francais-Latin1', 'Italian_Italiano-Latin1', 'Spanish_Espanol-Latin1', 'Turkish_Turkce-Turkish','Swaheli-Latin1'] \n",
        "def retrieve_fileid_by_first_letter(fileids, letter):\n",
        "    return [id for id in fileids if id.lower().startswith(letter.lower())]\n",
        "print(f\"Fileids beginning with 'R': {retrieve_fileid_by_first_letter(udhr.fileids(), letter='R')}\")\n",
        "languages += []\n",
        "language_ids += []"
      ],
      "metadata": {
        "colab": {
          "base_uri": "https://localhost:8080/"
        },
        "id": "O0G89FRiMbD7",
        "outputId": "563d64fe-e802-4c8e-b33e-ca3dd1cb3653"
      },
      "execution_count": null,
      "outputs": [
        {
          "output_type": "stream",
          "name": "stdout",
          "text": [
            "Fileids beginning with 'R': ['Rarotongan_MaoriCookIslands-Latin1', 'Rhaeto-Romance_Rumantsch-Latin1', 'Romani-Latin1', 'Romani-UTF8', 'Romanian-Latin2', 'Romanian_Romana-Latin2', 'Rukonzo_Konjo-Latin1', 'Rundi_Kirundi-Latin1', 'Runyankore-rukiga_Nkore-kiga-Latin1', 'Russian-Cyrillic', 'Russian-UTF8', 'Russian_Russky-Cyrillic', 'Russian_Russky-UTF8']\n"
          ]
        }
      ]
    },
    {
      "cell_type": "code",
      "source": [
        "raw_texts = {language: udhr.raw(language_id) for language, language_id in zip(languages, language_ids)}\n",
        "print(raw_texts['english'][:1000])\n",
        "models = {language: build_model(text=raw_texts[language], n_vals=range(1,4)) for language in languages}\n",
        "print(models['german'])"
      ],
      "metadata": {
        "colab": {
          "base_uri": "https://localhost:8080/"
        },
        "id": "FcXSqERXMg8r",
        "outputId": "55739b4a-4c02-433a-d015-37e0f5e205c8"
      },
      "execution_count": null,
      "outputs": [
        {
          "output_type": "stream",
          "name": "stdout",
          "text": [
            "Universal Declaration of Human Rights\n",
            "Preamble\n",
            "Whereas recognition of the inherent dignity and of the equal and inalienable rights of all members of the human family is the foundation of freedom, justice and peace in the world, \n",
            "\n",
            "Whereas disregard and contempt for human rights have resulted in barbarous acts which have outraged the conscience of mankind, and the advent of a world in which human beings shall enjoy freedom of speech and belief and freedom from fear and want has been proclaimed as the highest aspiration of the common people, \n",
            "\n",
            "Whereas it is essential, if man is not to be compelled to have recourse, as a last resort, to rebellion against tyranny and oppression, that human rights should be protected by the rule of law, \n",
            "\n",
            "Whereas it is essential to promote the development of friendly relations between nations, \n",
            "\n",
            "Whereas the peoples of the United Nations have in the Charter reaffirmed their faith in fundamental human rights, in the dignity and worth of the human person and in\n",
            "Counter({'e': 0.047242781889711274, ' ': 0.04430886177235447, 'n': 0.028472361138894446, 'i': 0.021070880842835232, 'r': 0.02013736080549443, 't': 0.016903380676135227, 'd': 0.015369740614789625, 'h': 0.013869440554777622, 'a': 0.012935920517436821, 's': 0.01256918050276722, 'u': 0.01236914049476562, 'l': 0.011035540441421618, 'er': 0.010268720410748817, 'en': 0.010168700406748016, 'g': 0.009301860372074415, 'c': 0.009035140361405614, 'ch': 0.008801760352070413, 'n ': 0.007401480296059212, 'ei': 0.0068013602720544105, 'un': 0.006668000266720011, 'de': 0.006367940254717611, 'e ': 0.005767820230712809, ' d': 0.005767820230712809, 'r ': 0.005467760218710409, 'en ': 0.005434420217376809, 'nd': 0.005334400213376008, 't ': 0.005034340201373608, 'er ': 0.004934320197372808, 'o': 0.004867640194705608, 'f': 0.004834300193372007, 'in': 0.004534240181369607, 'ge': 0.004134160165366407, 'der': 0.004000800160032006, 'ie': 0.003867440154697606, 'm': 0.0037674201506968062, 'ng': 0.0035340401413616056, 'te': 0.0035007001400280055, '\\n': 0.0034673601386944054, ',': 0.0033673401346936056, ', ': 0.0033673401346936056, 'd ': 0.0033340001333600055, 'he': 0.0032673201306928053, 'b': 0.003200640128025605, 're': 0.003200640128025605, 'nd ': 0.003200640128025605, ' u': 0.003167300126692005, ' un': 0.003167300126692005, 'und': 0.003133960125358405, 'k': 0.003100620124024805, 'z': 0.0030339401213576047, 'ne': 0.002967260118690405, 'ht': 0.0028339001133560046, 'ein': 0.0028339001133560046, 'ung': 0.0027672201106888044, 'cht': 0.0027672201106888044, 'ic': 0.0027005401080216042, 'ich': 0.002633860105354404, 'it': 0.0025671801026872043, 'w': 0.002500500100020004, 'es': 0.002500500100020004, ' s': 0.002467160098686404, ' a': 0.0023671400946856038, 's ': 0.0023338000933520037, ' de': 0.0022671200906848035, 'A': 0.0022337800893512034, 'sc': 0.0022004400880176033, 'be': 0.0022004400880176033, 'se': 0.0022004400880176033, 'sch': 0.0022004400880176033, 'le': 0.0021671000866840037, 'di': 0.0021337600853504036, 'ha': 0.0021337600853504036, 'el': 0.0021004200840168035, 'an': 0.0021004200840168035, 'li': 0.0021004200840168035, 'ti': 0.0020337400813496033, 'che': 0.0020337400813496033, 'g ': 0.002000400080016003, 'at': 0.002000400080016003, 'ec': 0.001967060078682403, 'ech': 0.001967060078682403, ' g': 0.001933720077348803, 'ie ': 0.001933720077348803, ' i': 0.001867040074681603, 'ke': 0.0018003600720144029, 'ig': 0.0017670200706808028, 'da': 0.0017670200706808028, 'ine': 0.0017670200706808028, 'ng ': 0.0017670200706808028, 'gen': 0.0017670200706808028, '.': 0.0017336800693472027, ' \\n': 0.0017003400680136026, 'st': 0.0017003400680136026, 'eit': 0.0017003400680136026, 'al': 0.0016670000666800027, 'ed': 0.0016670000666800027, 'zu': 0.0016670000666800027, '. ': 0.0016670000666800027, 'die': 0.0016670000666800027, 'R': 0.0016336600653464027, 'v': 0.0016336600653464027, 'G': 0.0016336600653464027, 'ns': 0.0016336600653464027, ' G': 0.0016336600653464027, ' R': 0.0016003200640128026, 'h ': 0.0016003200640128026, 'ch ': 0.0016003200640128026, ' di': 0.0015669800626792025, 'ä': 0.0015003000600120023, 'Re': 0.0015003000600120023, 'rt': 0.0015003000600120023, 'au': 0.0015003000600120023, 'nt': 0.0015003000600120023, ' Re': 0.0014669600586784024, ' da': 0.0014669600586784024, ' e': 0.0014336200573448023, 'f ': 0.0014336200573448023, 'hen': 0.0014336200573448023, 'll': 0.0014002800560112022, 'ru': 0.0013669400546776022, '. \\n': 0.0013669400546776022, 'ü': 0.001333600053344002, ' z': 0.001333600053344002, ' h': 0.001300260052010402, 'uf': 0.001300260052010402, ' zu': 0.001300260052010402, ' A': 0.001266920050676802, 'em': 0.001266920050676802, 'lic': 0.001266920050676802, 'Rec': 0.001266920050676802, 't d': 0.001233580049343202, ' ge': 0.001233580049343202, 'S': 0.001200240048009602, ' S': 0.001200240048009602, 'rei': 0.001200240048009602, ' ha': 0.001200240048009602, 'on': 0.0011669000466760018, 'nde': 0.0011669000466760018, ' au': 0.0011669000466760018, ' w': 0.0011335600453424017, 'l ': 0.0011335600453424017, 'Ar': 0.0011335600453424017, 'it ': 0.0011335600453424017, 'as': 0.0011002200440088017, 'ede': 0.0011002200440088017, 'so': 0.0010668800426752018, ' v': 0.0010668800426752018, 't,': 0.0010668800426752018, 'n,': 0.0010668800426752018, ' o': 0.0010668800426752018, 't, ': 0.0010668800426752018, ' in': 0.0010668800426752018, 'n, ': 0.0010668800426752018, 'ht ': 0.0010668800426752018, 'and': 0.0010668800426752018, 'auf': 0.0010668800426752018, 'ne ': 0.0010335400413416017, 'ten': 0.0010335400413416017, 'es ': 0.0010335400413416017, 'uf ': 0.0010335400413416017, 'me': 0.0010002000400080016, 'Ge': 0.0010002000400080016, 'u ': 0.0010002000400080016, 'is': 0.0010002000400080016, ' Ge': 0.0010002000400080016, 'in ': 0.0010002000400080016, 'el ': 0.0010002000400080016, 'ter': 0.0010002000400080016, 'M': 0.0009668600386744015, 'ar': 0.0009668600386744015, 'we': 0.0009668600386744015, 'n.': 0.0009668600386744015, '\\nA': 0.0009668600386744015, 'zu ': 0.0009668600386744015, 's R': 0.0009668600386744015, 'rti': 0.0009668600386744015, ' se': 0.0009668600386744015, 'n. ': 0.0009668600386744015, 'sei': 0.0009668600386744015, 'F': 0.0009335200373408015, ' M': 0.0009335200373408015, 'rd': 0.0009335200373408015, 've': 0.0009335200373408015, ' F': 0.0009335200373408015, 'wi': 0.0009335200373408015, 'den': 0.0009335200373408015, 'das': 0.0009335200373408015, 'as ': 0.0009335200373408015, ' ei': 0.0009335200373408015, 'Art': 0.0009335200373408015, 'ö': 0.0009001800360072014, 'm ': 0.0009001800360072014, 'run': 0.0009001800360072014, 'nge': 0.0009001800360072014, 'ver': 0.0009001800360072014, 'en.': 0.0009001800360072014, 'E': 0.0008668400346736014, 'ß': 0.0008668400346736014, '\\n\\n': 0.0008668400346736014, 'ri': 0.0008668400346736014, ' b': 0.0008668400346736014, 'eg': 0.0008668400346736014, 'na': 0.0008668400346736014, 'ik': 0.0008668400346736014, ' \\n\\n': 0.0008668400346736014, 'hei': 0.0008668400346736014, 'ere': 0.0008668400346736014, 'en,': 0.0008668400346736014, '\\nAr': 0.0008668400346736014, 'tik': 0.0008668400346736014, 'ike': 0.0008668400346736014, 'kel': 0.0008668400346736014, 'hat': 0.0008668400346736014, 'at ': 0.0008668400346736014, ' E': 0.0008335000333400014, 'hr': 0.0008335000333400014, 'eh': 0.0008335000333400014, 'od': 0.0008335000333400014, 'ens': 0.0008335000333400014, 'nsc': 0.0008335000333400014, 'ner': 0.0008335000333400014, 'nte': 0.0008335000333400014, ' od': 0.0008335000333400014, 'ode': 0.0008335000333400014, 'J': 0.0008001600320064013, 'lt': 0.0008001600320064013, 'et': 0.0008001600320064013, 'rs': 0.0008001600320064013, 'Je': 0.0008001600320064013, 'hte': 0.0008001600320064013, 'rde': 0.0008001600320064013, 'Jed': 0.0008001600320064013, 'V': 0.0007668200306728012, ' V': 0.0007668200306728012, 'ra': 0.0007668200306728012, 'rf': 0.0007668200306728012, '\\nJ': 0.0007668200306728012, 'lle': 0.0007668200306728012, ' be': 0.0007668200306728012, 'ese': 0.0007668200306728012, '\\nJe': 0.0007668200306728012, 'r h': 0.0007668200306728012, 'p': 0.0007334800293392012, 'af': 0.0007334800293392012, 'ih': 0.0007334800293392012, 'tz': 0.0007334800293392012, 'hl': 0.0007334800293392012, 'ts': 0.0007334800293392012, 'n d': 0.0007334800293392012, 't u': 0.0007334800293392012, ', d': 0.0007334800293392012, ' so': 0.0007334800293392012, 'ta': 0.0007001400280056011, 'ur': 0.0007001400280056011, ' f': 0.0007001400280056011, 'hu': 0.0007001400280056011, 'e u': 0.0007001400280056011, 'lei': 0.0007001400280056011, 'n u': 0.0007001400280056011, 'ege': 0.0007001400280056011, 'ers': 0.0007001400280056011, 'ige': 0.0007001400280056011, 'lu': 0.000666800026672001, 'ft': 0.000666800026672001, 'il': 0.000666800026672001, 'Ve': 0.000666800026672001, 'nen': 0.000666800026672001, ' Ve': 0.000666800026672001, 'Ver': 0.000666800026672001, 'ben': 0.000666800026672001, ' we': 0.000666800026672001, 'B': 0.000633460025338401, 'io': 0.000633460025338401, ' B': 0.000633460025338401, 'mi': 0.000633460025338401, ' n': 0.000633460025338401, 'ion': 0.000633460025338401, 'ren': 0.000633460025338401, 'd d': 0.000633460025338401, ' al': 0.000633460025338401, 'le ': 0.000633460025338401, 'W': 0.000600120024004801, 'rk': 0.000600120024004801, 'Me': 0.000600120024004801, 'or': 0.000600120024004801, ' W': 0.000600120024004801, 'fr': 0.000600120024004801, 'du': 0.000600120024004801, 'tl': 0.000600120024004801, ' Me': 0.000600120024004801, 'rec': 0.000600120024004801, 'lun': 0.000600120024004801, 'bei': 0.000600120024004801, 'wer': 0.000600120024004801, 't a': 0.000600120024004801, '1': 0.0005667800226712009, 'am': 0.0005667800226712009, 'gl': 0.0005667800226712009, 'ni': 0.0005667800226712009, 'gu': 0.0005667800226712009, 'te ': 0.0005667800226712009, 'ist': 0.0005667800226712009, 'n s': 0.0005667800226712009, 'chu': 0.0005667800226712009, 'N': 0.0005334400213376009, 'ol': 0.0005334400213376009, 'vo': 0.0005334400213376009, 'ür': 0.0005334400213376009, 'rl': 0.0005334400213376009, 'ab': 0.0005334400213376009, 'fe': 0.0005334400213376009, 'si': 0.0005334400213376009, 'g d': 0.0005334400213376009, ' vo': 0.0005334400213376009, ' an': 0.0005334400213376009, 'eic': 0.0005334400213376009, 'all': 0.0005334400213376009, 'tig': 0.0005334400213376009, ' ve': 0.0005334400213376009, 'erd': 0.0005334400213376009, 'tli': 0.0005334400213376009, 'gun': 0.0005334400213376009, '\\n\\nA': 0.0005334400213376009, 'i ': 0.0005001000200040008, 'ss': 0.0005001000200040008, 'rc': 0.0005001000200040008, 'St': 0.0005001000200040008, 'sa': 0.0005001000200040008, 'uc': 0.0005001000200040008, 'on ': 0.0005001000200040008, 'lie': 0.0005001000200040008, 'ei ': 0.0005001000200040008, 'fre': 0.0005001000200040008, 'urc': 0.0005001000200040008, 'rch': 0.0005001000200040008, ' St': 0.0005001000200040008, 'end': 0.0005001000200040008, 'L': 0.00046676001867040077, 'ut': 0.00046676001867040077, 'nn': 0.00046676001867040077, 'Fr': 0.00046676001867040077, 'rb': 0.00046676001867040077, 'tr': 0.00046676001867040077, 'Be': 0.00046676001867040077, 'rn': 0.00046676001867040077, ' L': 0.00046676001867040077, 'än': 0.00046676001867040077, 'Men': 0.00046676001867040077, 'tio': 0.00046676001867040077, 'cha': 0.00046676001867040077, 'aft': 0.00046676001867040077, ' Fr': 0.00046676001867040077, 'eih': 0.00046676001867040077, 'ihe': 0.00046676001867040077, ' du': 0.00046676001867040077, 'dur': 0.00046676001867040077, ' Be': 0.00046676001867040077, 'ern': 0.00046676001867040077, 'men': 0.00046676001867040077, 'chl': 0.00046676001867040077, 'ies': 0.00046676001867040077, 'uch': 0.00046676001867040077, 'em ': 0.00046676001867040077, 'An': 0.0004334200173368007, 'Gr': 0.0004334200173368007, ' m': 0.0004334200173368007, 'ls': 0.0004334200173368007, 'oh': 0.0004334200173368007, 'pr': 0.0004334200173368007, 'ma': 0.0004334200173368007, 'gem': 0.0004334200173368007, ' An': 0.0004334200173368007, 'de ': 0.0004334200173368007, ' gl': 0.0004334200173368007, 'gle': 0.0004334200173368007, 'ied': 0.0004334200173368007, 'haf': 0.0004334200173368007, ' Gr': 0.0004334200173368007, 'kei': 0.0004334200173368007, 'len': 0.0004334200173368007, 'ati': 0.0004334200173368007, 'hre': 0.0004334200173368007, 'ale': 0.0004334200173368007, 'dar': 0.0004334200173368007, 'ent': 0.0004334200173368007, '2': 0.00040008001600320064, 'H': 0.00040008001600320064, ' 1': 0.00040008001600320064, 'nu': 0.00040008001600320064, 'dl': 0.00040008001600320064, 'la': 0.00040008001600320064, 'ew': 0.00040008001600320064, 'aa': 0.00040008001600320064, 'ft ': 0.00040008001600320064, 'Gru': 0.00040008001600320064, 'n i': 0.00040008001600320064, 't w': 0.00040008001600320064, 'taa': 0.00040008001600320064, 'aat': 0.00040008001600320064, 'geh': 0.00040008001600320064, 'U': 0.0003667400146696006, 'eb': 0.0003667400146696006, 'ld': 0.0003667400146696006, 'tu': 0.0003667400146696006, ' H': 0.0003667400146696006, ' U': 0.0003667400146696006, 'us': 0.0003667400146696006, 'ah': 0.0003667400146696006, 'sp': 0.0003667400146696006, 'ul': 0.0003667400146696006, 'eme': 0.0003667400146696006, 'mei': 0.0003667400146696006, 'e E': 0.0003667400146696006, 'r M': 0.0003667400146696006, 'ang': 0.0003667400146696006, 'r d': 0.0003667400146696006, 'ndl': 0.0003667400146696006, 'Fre': 0.0003667400146696006, 'hab': 0.0003667400146696006, 'abe': 0.0003667400146696006, 'sse': 0.0003667400146696006, 'sen': 0.0003667400146696006, 'mit': 0.0003667400146696006, ' is': 0.0003667400146696006, 'ste': 0.0003667400146696006, 'des': 0.0003667400146696006, 'n g': 0.0003667400146696006, 'dig': 0.0003667400146696006, 'h d': 0.0003667400146696006, 'geg': 0.0003667400146696006, ' fr': 0.0003667400146696006, 'n G': 0.0003667400146696006, 'hli': 0.0003667400146696006, ' si': 0.0003667400146696006, 'Ges': 0.0003667400146696006, 'he ': 0.0003667400146696006, 'wie': 0.0003667400146696006, 'l 1': 0.0003667400146696006, 'h a': 0.0003667400146696006, 'spr': 0.0003667400146696006, 'ruc': 0.0003667400146696006, 'ht,': 0.0003667400146696006, 'arf': 0.0003667400146696006, 'rf ': 0.0003667400146696006, ', s': 0.0003667400146696006, 'D': 0.0003334000133360005, 'kl': 0.0003334000133360005, 'a ': 0.0003334000133360005, 'ac': 0.0003334000133360005, 'ör': 0.0003334000133360005, 'gr': 0.0003334000133360005, 'e,': 0.0003334000133360005, 'hn': 0.0003334000133360005, 'g,': 0.0003334000133360005, 'z ': 0.0003334000133360005, 'Sc': 0.0003334000133360005, 'e A': 0.0003334000133360005, 'erk': 0.0003334000133360005, 'nun': 0.0003334000133360005, 'ach': 0.0003334000133360005, 'erf': 0.0003334000133360005, 'e S': 0.0003334000133360005, ' wi': 0.0003334000133360005, 'fen': 0.0003334000133360005, 'e, ': 0.0003334000133360005, 'rbe': 0.0003334000133360005, 'alt': 0.0003334000133360005, 'Ans': 0.0003334000133360005, 'nsp': 0.0003334000133360005, 'pru': 0.0003334000133360005, 'r s': 0.0003334000133360005, 'ng,': 0.0003334000133360005, 'g, ': 0.0003334000133360005, 'ema': 0.0003334000133360005, ' Sc': 0.0003334000133360005, 'Sch': 0.0003334000133360005, ' \\nA': 0.0003334000133360005, 'lg': 0.0003000600120024005, ' 2': 0.0003000600120024005, 'rä': 0.0003000600120024005, 'ße': 0.0003000600120024005, 'Ni': 0.0003000600120024005, 'fü': 0.0003000600120024005, 'eß': 0.0003000600120024005, 'gi': 0.0003000600120024005, 'ir': 0.0003000600120024005, 'Un': 0.0003000600120024005, 'zi': 0.0003000600120024005, 'lk': 0.0003000600120024005, 'mm': 0.0003000600120024005, 'nz': 0.0003000600120024005, 'e a': 0.0003000600120024005, 'r G': 0.0003000600120024005, 'r B': 0.0003000600120024005, 'e d': 0.0003000600120024005, 'e M': 0.0003000600120024005, 'ieß': 0.0003000600120024005, ' Un': 0.0003000600120024005, 'Unt': 0.0003000600120024005, 'n z': 0.0003000600120024005, 'int': 0.0003000600120024005, 'n a': 0.0003000600120024005, 'igu': 0.0003000600120024005, 'esc': 0.0003000600120024005, 'sam': 0.0003000600120024005, 'ite': 0.0003000600120024005, 'eru': 0.0003000600120024005, 'st ': 0.0003000600120024005, 'ind': 0.0003000600120024005, 'ohn': 0.0003000600120024005, 'tz ': 0.0003000600120024005, 'hul': 0.0003000600120024005, 'Al': 0.00026672001066880045, 'Er': 0.00026672001066880045, 'gk': 0.00026672001066880045, ' N': 0.00026672001066880045, 'kü': 0.00026672001066880045, 'tw': 0.00026672001066880045, 'ze': 0.00026672001066880045, 'tt': 0.00026672001066880045, 'hi': 0.00026672001066880045, 'äh': 0.00026672001066880045, 'im': 0.00026672001066880045, 'rh': 0.00026672001066880045, '\\nN': 0.00026672001066880045, 'ow': 0.00026672001066880045, 'ff': 0.00026672001066880045, 'Fa': 0.00026672001066880045, ' Er': 0.00026672001066880045, 'ken': 0.00026672001066880045, 'rli': 0.00026672001066880045, 'ins': 0.00026672001066880045, 'von': 0.00026672001066880045, 'igk': 0.00026672001066880045, 'gke': 0.00026672001066880045, 'tun': 0.00026672001066880045, ' mi': 0.00026672001066880045, ' er': 0.00026672001066880045, 'n w': 0.00026672001066880045, 'ls ': 0.00026672001066880045, 'etz': 0.00026672001066880045, 'sta': 0.00026672001066880045, 'nne': 0.00026672001066880045, 'her': 0.00026672001066880045, ' ih': 0.00026672001066880045, 'son': 0.00026672001066880045, 'sic': 0.00026672001066880045, 'hal': 0.00026672001066880045, 'rst': 0.00026672001066880045, 't s': 0.00026672001066880045, 'lte': 0.00026672001066880045, 'd s': 0.00026672001066880045, ' na': 0.00026672001066880045, 'unt': 0.00026672001066880045, 'l 2': 0.00026672001066880045, 'n o': 0.00026672001066880045, 'Sta': 0.00026672001066880045, 't i': 0.00026672001066880045, '\\nNi': 0.00026672001066880045, 'Nie': 0.00026672001066880045, 'iem': 0.00026672001066880045, 'man': 0.00026672001066880045, 'tra': 0.00026672001066880045, 'raf': 0.00026672001066880045, 'hut': 0.00026672001066880045, 'utz': 0.00026672001066880045, 'sow': 0.00026672001066880045, 'ffe': 0.00026672001066880045, 'e F': 0.00026672001066880045, ' Fa': 0.00026672001066880045, ' Ar': 0.00026672001066880045, 'I': 0.00023338000933520038, 'P': 0.00023338000933520038, 'är': 0.00023338000933520038, '\\nd': 0.00023338000933520038, 'ot': 0.00023338000933520038, 'hö': 0.00023338000933520038, 'no': 0.00023338000933520038, 'rr': 0.00023338000933520038, 'um': 0.00023338000933520038, 'Au': 0.00023338000933520038, 'ck': 0.00023338000933520038, 'ds': 0.00023338000933520038, 'oz': 0.00023338000933520038, 'ia': 0.00023338000933520038, 'Ei': 0.00023338000933520038, 'ga': 0.00023338000933520038, 'wä': 0.00023338000933520038, 'Ha': 0.00023338000933520038, 'fa': 0.00023338000933520038, ' k': 0.00023338000933520038, 'nk': 0.00023338000933520038, 't.': 0.00023338000933520038, 'All': 0.00023338000933520038, 'ge ': 0.00023338000933520038, 'd F': 0.00023338000933520038, 'r W': 0.00023338000933520038, ', \\n': 0.00023338000933520038, '\\n\\nd': 0.00023338000933520038, 'da ': 0.00023338000933520038, 'rt ': 0.00023338000933520038, 'ig ': 0.00023338000933520038, 'err': 0.00023338000933520038, 'rsc': 0.00023338000933520038, 'ami': 0.00023338000933520038, ', a': 0.00023338000933520038, 'als': 0.00023338000933520038, 'tte': 0.00023338000933520038, ' Au': 0.00023338000933520038, ' gr': 0.00023338000933520038, 'r V': 0.00023338000933520038, 'soz': 0.00023338000933520038, 'ozi': 0.00023338000933520038, 'zia': 0.00023338000933520038, 'ial': 0.00023338000933520038, 're ': 0.00023338000933520038, 'mme': 0.00023338000933520038, 'n v': 0.00023338000933520038, 'sel': 0.00023338000933520038, 'ell': 0.00023338000933520038, 'ric': 0.00023338000933520038, 'nat': 0.00023338000933520038, 'ats': 0.00023338000933520038, 'e B': 0.00023338000933520038, 'n e': 0.00023338000933520038, ' Ha': 0.00023338000933520038, 'eli': 0.00023338000933520038, 'n S': 0.00023338000933520038, 't. ': 0.00023338000933520038, 'erh': 0.00023338000933520038, 'dlu': 0.00023338000933520038, 'f g': 0.00023338000933520038, 'n A': 0.00023338000933520038, 'ill': 0.00023338000933520038, 'owi': 0.00023338000933520038, 'ntl': 0.00023338000933520038, 'Z': 0.00020004000800160032, 'j': 0.00020004000800160032, 'Di': 0.00020004000800160032, 'nr': 0.00020004000800160032, 'uß': 0.00020004000800160032, 'Mi': 0.00020004000800160032, 'tg': 0.00020004000800160032, 'ba': 0.00020004000800160032, 'ün': 0.00020004000800160032, 'd,': 0.00020004000800160032, 'zt': 0.00020004000800160032, 'Na': 0.00020004000800160032, ' P': 0.00020004000800160032, 'Le': 0.00020004000800160032, ' Z': 0.00020004000800160032, 'tä': 0.00020004000800160032, ' j': 0.00020004000800160032, 'je': 0.00020004000800160032, 'rg': 0.00020004000800160032, 'nf': 0.00020004000800160032, 'La': 0.00020004000800160032, 'su': 0.00020004000800160032, ' ö': 0.00020004000800160032, 'öf': 0.00020004000800160032, 'llg': 0.00020004000800160032, 'lge': 0.00020004000800160032, 'enr': 0.00020004000800160032, 'nre': 0.00020004000800160032, 'rke': 0.00020004000800160032, 'ene': 0.00020004000800160032, 'erl': 0.00020004000800160032, 'n R': 0.00020004000800160032, ' Mi': 0.00020004000800160032, 'Mit': 0.00020004000800160032, 'e G': 0.00020004000800160032, 'e v': 0.00020004000800160032, 'hti': 0.00020004000800160032, 'ild': 0.00020004000800160032, 'det': 0.00020004000800160032, '\\nda': 0.00020004000800160032, 'g u': 0.00020004000800160032, 'e z': 0.00020004000800160032, 'bar': 0.00020004000800160032, 't m': 0.00020004000800160032, ', u': 0.00020004000800160032, ', i': 0.00020004000800160032, 'nie': 0.00020004000800160032, 'ebe': 0.00020004000800160032, 'g i': 0.00020004000800160032, 'tes': 0.00020004000800160032, 'wir': 0.00020004000800160032, 'd, ': 0.00020004000800160032, 'tel': 0.00020004000800160032, 'um ': 0.00020004000800160032, 'u g': 0.00020004000800160032, 'isc': 0.00020004000800160032, ' Na': 0.00020004000800160032, 'one': 0.00020004000800160032, 'ert': 0.00020004000800160032, 'ber': 0.00020004000800160032, 'bes': 0.00020004000800160032, 'chr': 0.00020004000800160032, ' Le': 0.00020004000800160032, 'ing': 0.00020004000800160032, ' Ei': 0.00020004000800160032, ' je': 0.00020004000800160032, 'jed': 0.00020004000800160032, ' st': 0.00020004000800160032, 'ona': 0.00020004000800160032, 'nal': 0.00020004000800160032, 'r i': 0.00020004000800160032, 'gew': 0.00020004000800160032, 'ehe': 0.00020004000800160032, 'wäh': 0.00020004000800160032, 'e s': 0.00020004000800160032, 'lig': 0.00020004000800160032, 'r o': 0.00020004000800160032, 't o': 0.00020004000800160032, 'f G': 0.00020004000800160032, ' La': 0.00020004000800160032, 'Lan': 0.00020004000800160032, 'dem': 0.00020004000800160032, 'hör': 0.00020004000800160032, ' öf': 0.00020004000800160032, 'öff': 0.00020004000800160032, 'gel': 0.00020004000800160032, ' \\nJ': 0.00020004000800160032, 'Arb': 0.00020004000800160032, 'K': 0.00016670000666800026, 'lä': 0.00016670000666800026, '\\nD': 0.00016670000666800026, 'Wü': 0.00016670000666800026, 'bi': 0.00016670000666800026, 'ß ': 0.00016670000666800026, 'sf': 0.00016670000666800026, 'ez': 0.00016670000666800026, 'dr': 0.00016670000666800026, 'rü': 0.00016670000666800026, 'eu': 0.00016670000666800026, 'gt': 0.00016670000666800026, 'lo': 0.00016670000666800026, 'nh': 0.00016670000666800026, 'fo': 0.00016670000666800026, 'hm': 0.00016670000666800026, 'wa': 0.00016670000666800026, 'Si': 0.00016670000666800026, ' r': 0.00016670000666800026, 'r,': 0.00016670000666800026, 'Eh': 0.00016670000666800026, ' K': 0.00016670000666800026, ' Al': 0.00016670000666800026, 'Erk': 0.00016670000666800026, 'rkl': 0.00016670000666800026, 'klä': 0.00016670000666800026, 'lär': 0.00016670000666800026, 'äru': 0.00016670000666800026, 'sol': 0.00016670000666800026, 'n W': 0.00016670000666800026, ' Wü': 0.00016670000666800026, 'Wür': 0.00016670000666800026, 'ürd': 0.00016670000666800026, 'r g': 0.00016670000666800026, 'it,': 0.00016670000666800026, ', G': 0.00016670000666800026, 'elt': 0.00016670000666800026, 'tan': 0.00016670000666800026, 'era': 0.00016670000666800026, 'arb': 0.00016670000666800026, 'Gew': 0.00016670000666800026, 'et ': 0.00016670000666800026, 'st,': 0.00016670000666800026, 'd G': 0.00016670000666800026, 't g': 0.00016670000666800026, 'ßen': 0.00016670000666800026, 'Str': 0.00016670000666800026, ' no': 0.00016670000666800026, 'ndi': 0.00016670000666800026, ' ni': 0.00016670000666800026, 'nic': 0.00016670000666800026, 'itt': 0.00016670000666800026, 'zum': 0.00016670000666800026, 'd g': 0.00016670000666800026, 'g z': 0.00016670000666800026, 'nds': 0.00016670000666800026, 'Nat': 0.00016670000666800026, 'lke': 0.00016670000666800026, 'ihr': 0.00016670000666800026, 'an ': 0.00016670000666800026, 'e g': 0.00016670000666800026, 'rso': 0.00016670000666800026, 'g v': 0.00016670000666800026, 'rau': 0.00016670000666800026, 'd b': 0.00016670000666800026, 'ser': 0.00016670000666800026, 'edi': 0.00016670000666800026, 'r F': 0.00016670000666800026, 't z': 0.00016670000666800026, 'ate': 0.00016670000666800026, 'tet': 0.00016670000666800026, 'amm': 0.00016670000666800026, 'Ein': 0.00016670000666800026, 'nzu': 0.00016670000666800026, ' fü': 0.00016670000666800026, 'für': 0.00016670000666800026, 'ür ': 0.00016670000666800026, 'lls': 0.00016670000666800026, 'lsc': 0.00016670000666800026, 'rri': 0.00016670000666800026, 'vor': 0.00016670000666800026, 'or ': 0.00016670000666800026, 'd i': 0.00016670000666800026, 'its': 0.00016670000666800026, 'ete': 0.00016670000666800026, 'eis': 0.00016670000666800026, 'sin': 0.00016670000666800026, ' Si': 0.00016670000666800026, 't A': 0.00016670000666800026, 'e i': 0.00016670000666800026, ' oh': 0.00016670000666800026, 'hne': 0.00016670000666800026, ', e': 0.00016670000666800026, 'nac': 0.00016670000666800026, 'ass': 0.00016670000666800026, 'Rel': 0.00016670000666800026, 'igi': 0.00016670000666800026, 'gio': 0.00016670000666800026, ' re': 0.00016670000666800026, 'ehö': 0.00016670000666800026, 'str': 0.00016670000666800026, 'r S': 0.00016670000666800026, 'er,': 0.00016670000666800026, 'r, ': 0.00016670000666800026, 'rig': 0.00016670000666800026, 'g a': 0.00016670000666800026, 'set': 0.00016670000666800026, 'ini': 0.00016670000666800026, 'f e': 0.00016670000666800026, 'inn': 0.00016670000666800026, 'n H': 0.00016670000666800026, 'Han': 0.00016670000666800026, 'ürl': 0.00016670000666800026, 'uld': 0.00016670000666800026, 'Fam': 0.00016670000666800026, 'mil': 0.00016670000666800026, 'ili': 0.00016670000666800026, ' Eh': 0.00016670000666800026, 'nes': 0.00016670000666800026, 'eie': 0.00016670000666800026, '4': 0.00013336000533440022, '-': 0.00013336000533440022, ';': 0.00013336000533440022, 'om': 0.00013336000533440022, 'nv': 0.00013336000533440022, 'We': 0.00013336000533440022, 'kt': 0.00013336000533440022, 'aß': 0.00013336000533440022, 'Gl': 0.00013336000533440022, 'ub': 0.00013336000533440022, 'hs': 0.00013336000533440022, 'üc': 0.00013336000533440022, 'ku': 0.00013336000533440022, 'if': 0.00013336000533440022, 'öl': 0.00013336000533440022, 'Pe': 0.00013336000533440022, 'os': 0.00013336000533440022, 'sb': 0.00013336000533440022, 'fl': 0.00013336000533440022, 'ßt': 0.00013336000533440022, 'Wi': 0.00013336000533440022, ' I': 0.00013336000533440022, 'ln': 0.00013336000533440022, 'rz': 0.00013336000533440022, 'sä': 0.00013336000533440022, 'äc': 0.00013336000533440022, 'lb': 0.00013336000533440022, 'ug': 0.00013336000533440022, 'hä': 0.00013336000533440022, 'ät': 0.00013336000533440022, '; ': 0.00013336000533440022, 'rw': 0.00013336000533440022, ' D': 0.00013336000533440022, 'g.': 0.00013336000533440022, 'ks': 0.00013336000533440022, 'Die': 0.00013336000533440022, 'a d': 0.00013336000533440022, 'enn': 0.00013336000533440022, 'r a': 0.00013336000533440022, 'ßer': 0.00013336000533440022, 'ler': 0.00013336000533440022, 'itg': 0.00013336000533440022, 'tgl': 0.00013336000533440022, 'gli': 0.00013336000533440022, 'n F': 0.00013336000533440022, 'rie': 0.00013336000533440022, ' We': 0.00013336000533440022, 't b': 0.00013336000533440022, 'lde': 0.00013336000533440022, 'htu': 0.00013336000533440022, 'ewi': 0.00013336000533440022, 'wis': 0.00013336000533440022, 'kün': 0.00013336000533440022, 'ünd': 0.00013336000533440022, ' Gl': 0.00013336000533440022, 'aub': 0.00013336000533440022, 'eße': 0.00013336000533440022, 'chs': 0.00013336000533440022, 'tre': 0.00013336000533440022, 'not': 0.00013336000533440022, 'otw': 0.00013336000533440022, 'twe': 0.00013336000533440022, 'wen': 0.00013336000533440022, ' sc': 0.00013336000533440022, 'tzt': 0.00013336000533440022, 'Auf': 0.00013336000533440022, 'ann': 0.00013336000533440022, 'ück': 0.00013336000533440022, 'dsc': 0.00013336000533440022, 'ehu': 0.00013336000533440022, 'hun': 0.00013336000533440022, 'n N': 0.00013336000533440022, 'e V': 0.00013336000533440022, 'ölk': 0.00013336000533440022, 'ker': 0.00013336000533440022, 'e W': 0.00013336000533440022, ' Pe': 0.00013336000533440022, 'Per': 0.00013336000533440022, 'u e': 0.00013336000533440022, 'gt ': 0.00013336000533440022, 'los': 0.00013336000533440022, 'sbe': 0.00013336000533440022, 'rer': 0.00013336000533440022, 'usa': 0.00013336000533440022, 'n V': 0.00013336000533440022, 'ltu': 0.00013336000533440022, 'ame': 0.00013336000533440022, 'änd': 0.00013336000533440022, 'r R': 0.00013336000533440022, ' Wi': 0.00013336000533440022, 'rn ': 0.00013336000533440022, 'eln': 0.00013336000533440022, 'h f': 0.00013336000533440022, 'rna': 0.00013336000533440022, 'äch': 0.00013336000533440022, 'r H': 0.00013336000533440022, 'ewä': 0.00013336000533440022, 'ähr': 0.00013336000533440022, 'hrl': 0.00013336000533440022, 'rle': 0.00013336000533440022, 'nft': 0.00013336000533440022, 'n b': 0.00013336000533440022, ' im': 0.00013336000533440022, 'im ': 0.00013336000533440022, 'm G': 0.00013336000533440022, 'r E': 0.00013336000533440022, 'chi': 0.00013336000533440022, 'hie': 0.00013336000533440022, 'iti': 0.00013336000533440022, 'ons': 0.00013336000533440022, 'nst': 0.00013336000533440022, 'ger': 0.00013336000533440022, 's L': 0.00013336000533440022, ', g': 0.00013336000533440022, 'g o': 0.00013336000533440022, 'ses': 0.00013336000533440022, 's u': 0.00013336000533440022, 'hän': 0.00013336000533440022, 'äng': 0.00013336000533440022, 'han': 0.00013336000533440022, 'ier': 0.00013336000533440022, 'zt ': 0.00013336000533440022, 'rän': 0.00013336000533440022, 'ges': 0.00013336000533440022, 'eha': 0.00013336000533440022, 'fe ': 0.00013336000533440022, 'erw': 0.00013336000533440022, 'u w': 0.00013336000533440022, 'ng.': 0.00013336000533440022, 'g. ': 0.00013336000533440022, 'i d': 0.00013336000533440022, 'zus': 0.00013336000533440022, 'atl': 0.00013336000533440022, 'rfa': 0.00013336000533440022, 'sun': 0.00013336000533440022, 'f w': 0.00013336000533440022, 'wil': 0.00013336000533440022, 'llk': 0.00013336000533440022, 'lkü': 0.00013336000533440022, 'kür': 0.00013336000533440022, 'est': 0.00013336000533440022, 'ahr': 0.00013336000533440022, 'nem': 0.00013336000533440022, 'e f': 0.00013336000533440022, 'ien': 0.00013336000533440022, ' \\nN': 0.00013336000533440022, 'h i': 0.00013336000533440022, 'ehr': 0.00013336000533440022, ', z': 0.00013336000533440022, 'n L': 0.00013336000533440022, 'd z': 0.00013336000533440022, 'r A': 0.00013336000533440022, 'tsa': 0.00013336000533440022, 'san': 0.00013336000533440022, 'öri': 0.00013336000533440022, 'Ehe': 0.00013336000533440022, 'e R': 0.00013336000533440022, 'enz': 0.00013336000533440022, 'ahl': 0.00013336000533440022, 'dun': 0.00013336000533440022, 'ulu': 0.00013336000533440022, '7': 0.00010002000400080016, '0': 0.00010002000400080016, '9': 0.00010002000400080016, '8': 0.00010002000400080016, '3': 0.00010002000400080016, '5': 0.00010002000400080016, '6': 0.00010002000400080016, 'bo': 0.00010002000400080016, 'ag': 0.00010002000400080016, 'ef': 0.00010002000400080016, 'ül': 0.00010002000400080016, 'wo': 0.00010002000400080016, '- ': 0.00010002000400080016, 'He': 0.00010002000400080016, 'üt': 0.00010002000400080016, 'zw': 0.00010002000400080016, 'wu': 0.00010002000400080016, 'fs': 0.00010002000400080016, 'En': 0.00010002000400080016, 'fö': 0.00010002000400080016, 'Ma': 0.00010002000400080016, 'kr': 0.00010002000400080016, 'Fo': 0.00010002000400080016, 'öß': 0.00010002000400080016, 'pf': 0.00010002000400080016, 'Zu': 0.00010002000400080016, 'ßn': 0.00010002000400080016, '1\\n': 0.00010002000400080016, 'bt': 0.00010002000400080016, '2\\n': 0.00010002000400080016, ' p': 0.00010002000400080016, 'po': 0.00010002000400080016, 'rm': 0.00010002000400080016, 'De': 0.00010002000400080016, 'ob': 0.00010002000400080016, 'uh': 0.00010002000400080016, '3\\n': 0.00010002000400080016, 'Sk': 0.00010002000400080016, 'av': 0.00010002000400080016, '5\\n': 0.00010002000400080016, '6\\n': 0.00010002000400080016, 'üb': 0.00010002000400080016, 'fä': 0.00010002000400080016, 'fb': 0.00010002000400080016, 'id': 0.00010002000400080016, 'mä': 0.00010002000400080016, 'äß': 0.00010002000400080016, 'va': 0.00010002000400080016, 'Wo': 0.00010002000400080016, 'to': 0.00010002000400080016, 'e.': 0.00010002000400080016, 'In': 0.00010002000400080016, 'Bi': 0.00010002000400080016, 'eso': 0.00010002000400080016, 'nnu': 0.00010002000400080016, 'geb': 0.00010002000400080016, 'd u': 0.00010002000400080016, 'unv': 0.00010002000400080016, 'nve': 0.00010002000400080016, 'uße': 0.00010002000400080016, 'Gem': 0.00010002000400080016, 'Ger': 0.00010002000400080016, 'Wel': 0.00010002000400080016, 'lt ': 0.00010002000400080016, ' bi': 0.00010002000400080016, 'bil': 0.00010002000400080016, 'et,': 0.00010002000400080016, 'ane': 0.00010002000400080016, 'are': 0.00010002000400080016, 't h': 0.00010002000400080016, 'iss': 0.00010002000400080016, 'rfü': 0.00010002000400080016, 'rkü': 0.00010002000400080016, '- u': 0.00010002000400080016, 'lau': 0.00010002000400080016, 'sfr': 0.00010002000400080016, 'eni': 0.00010002000400080016, 's M': 0.00010002000400080016, 'a e': 0.00010002000400080016, 'u s': 0.00010002000400080016, 'wun': 0.00010002000400080016, 'rd,': 0.00010002000400080016, 'm A': 0.00010002000400080016, 'ufs': 0.00010002000400080016, 'ran': 0.00010002000400080016, 'i u': 0.00010002000400080016, 'rüc': 0.00010002000400080016, 'kun': 0.00010002000400080016, ' En': 0.00010002000400080016, 'Ent': 0.00010002000400080016, 'u f': 0.00010002000400080016, ' fö': 0.00010002000400080016, 'för': 0.00010002000400080016, 'örd': 0.00010002000400080016, 'art': 0.00010002000400080016, 'leg': 0.00010002000400080016, 'r m': 0.00010002000400080016, ' Ma': 0.00010002000400080016, 'fti': 0.00010002000400080016, 'n h': 0.00010002000400080016, ' Fo': 0.00010002000400080016, 'Leb': 0.00010002000400080016, 'ngu': 0.00010002000400080016, 'fli': 0.00010002000400080016, ' Zu': 0.00010002000400080016, 'f d': 0.00010002000400080016, 'd E': 0.00010002000400080016, 'inh': 0.00010002000400080016, 'nha': 0.00010002000400080016, 'irk': 0.00010002000400080016, 's V': 0.00010002000400080016, 'stä': 0.00010002000400080016, 'tän': 0.00010002000400080016, 's d': 0.00010002000400080016, 'oll': 0.00010002000400080016, 'llu': 0.00010002000400080016, 'rsa': 0.00010002000400080016, 'se ': 0.00010002000400080016, 'r e': 0.00010002000400080016, 'gan': 0.00010002000400080016, 'g s': 0.00010002000400080016, 'aßn': 0.00010002000400080016, 'ßna': 0.00010002000400080016, 'nah': 0.00010002000400080016, 'ahm': 0.00010002000400080016, 'hme': 0.00010002000400080016, 'elb': 0.00010002000400080016, 'teh': 0.00010002000400080016, 'Geb': 0.00010002000400080016, '\\nAl': 0.00010002000400080016, 'bt ': 0.00010002000400080016, 'n U': 0.00010002000400080016, 'hle': 0.00010002000400080016, 'pol': 0.00010002000400080016, 'oli': 0.00010002000400080016, 'lit': 0.00010002000400080016, 'tis': 0.00010002000400080016, ' ke': 0.00010002000400080016, 'ed ': 0.00010002000400080016, 'htl': 0.00010002000400080016, 'reg': 0.00010002000400080016, 'itä': 0.00010002000400080016, 'tät': 0.00010002000400080016, 'ät ': 0.00010002000400080016, 't e': 0.00010002000400080016, 'hrä': 0.00010002000400080016, 'änk': 0.00010002000400080016, 'nkt': 0.00010002000400080016, '3\\nJ': 0.00010002000400080016, 'd S': 0.00010002000400080016, 'Sic': 0.00010002000400080016, 'rhe': 0.00010002000400080016, ' Sk': 0.00010002000400080016, 'Skl': 0.00010002000400080016, 'kla': 0.00010002000400080016, 'lav': 0.00010002000400080016, 'ave': 0.00010002000400080016, 'erb': 0.00010002000400080016, 'afe': 0.00010002000400080016, 'd v': 0.00010002000400080016, 'z g': 0.00010002000400080016, 'e U': 0.00010002000400080016, 'n j': 0.00010002000400080016, ' Di': 0.00010002000400080016, 'min': 0.00010002000400080016, 'tzu': 0.00010002000400080016, 'zun': 0.00010002000400080016, 'hel': 0.00010002000400080016, 'ust': 0.00010002000400080016, 'omm': 0.00010002000400080016, 'ldi': 0.00010002000400080016, 'fah': 0.00010002000400080016, 'rte': 0.00010002000400080016, 'tei': 0.00010002000400080016, 'r w': 0.00010002000400080016, 'weg': 0.00010002000400080016, 'afb': 0.00010002000400080016, 'fba': 0.00010002000400080016, ', h': 0.00010002000400080016, 'mäß': 0.00010002000400080016, 'ß d': 0.00010002000400080016, 'rla': 0.00010002000400080016, 'Beg': 0.00010002000400080016, 'ar ': 0.00010002000400080016, 'n E': 0.00010002000400080016, 'rif': 0.00010002000400080016, ' Wo': 0.00010002000400080016, 'Woh': 0.00010002000400080016, 'hnu': 0.00010002000400080016, 'u b': 0.00010002000400080016, 'sor': 0.00010002000400080016, 'h s': 0.00010002000400080016, 'u v': 0.00010002000400080016, 'rfo': 0.00010002000400080016, 'fol': 0.00010002000400080016, 'olg': 0.00010002000400080016, ' \\nD': 0.00010002000400080016, 'n n': 0.00010002000400080016, 'e e': 0.00010002000400080016, 'it.': 0.00010002000400080016, 'e. ': 0.00010002000400080016, 'une': 0.00010002000400080016, 'Wil': 0.00010002000400080016, 'nig': 0.00010002000400080016, 'f S': 0.00010002000400080016, 'ank': 0.00010002000400080016, '; d': 0.00010002000400080016, 'Mei': 0.00010002000400080016, 'inu': 0.00010002000400080016, ' In': 0.00010002000400080016, 'fri': 0.00010002000400080016, 'uß ': 0.00010002000400080016, 'Ber': 0.00010002000400080016, ' Bi': 0.00010002000400080016, 'Bil': 0.00010002000400080016, 'ldu': 0.00010002000400080016, 'T': 6.668000266720011e-05, 'y': 6.668000266720011e-05, 'O': 6.668000266720011e-05, 'Ü': 6.668000266720011e-05, '21': 6.668000266720011e-05, '17': 6.668000266720011e-05, 'II': 6.668000266720011e-05, '10': 6.668000266720011e-05, '.1': 6.668000266720011e-05, '12': 6.668000266720011e-05, '19': 6.668000266720011e-05, 'Pr': 6.668000266720011e-05, 'äu': 6.668000266720011e-05, 'üh': 6.668000266720011e-05, 'hh': 6.668000266720011e-05, 'mp': 6.668000266720011e-05, ' T': 6.668000266720011e-05, 'Vö': 6.668000266720011e-05, 'ek': 6.668000266720011e-05, 'rö': 6.668000266720011e-05, 'rp': 6.668000266720011e-05, 'Ac': 6.668000266720011e-05, 'uw': 6.668000266720011e-05, 'lv': 6.668000266720011e-05, 'l,': 6.668000266720011e-05, ' O': 6.668000266720011e-05, 'Or': 6.668000266720011e-05, 'mü': 6.668000266720011e-05, ' t': 6.668000266720011e-05, 'ev': 6.668000266720011e-05, 'vö': 6.668000266720011e-05, 'bs': 6.668000266720011e-05, 'Ho': 6.668000266720011e-05, 'sg': 6.668000266720011e-05, 'hk': 6.668000266720011e-05, 'Ra': 6.668000266720011e-05, ' Ü': 6.668000266720011e-05, 'Üb': 6.668000266720011e-05, 'bu': 6.668000266720011e-05, 'd.': 6.668000266720011e-05, 'hg': 6.668000266720011e-05, 'b ': 6.668000266720011e-05, 'bh': 6.668000266720011e-05, '4\\n': 6.668000266720011e-05, 'nm': 6.668000266720011e-05, ' ü': 6.668000266720011e-05, 'ka': 6.668000266720011e-05, '7\\n': 6.668000266720011e-05, 'z.': 6.668000266720011e-05, 'sk': 6.668000266720011e-05, '8\\n': 6.668000266720011e-05, '9\\n': 6.668000266720011e-05, '0\\n': 6.668000266720011e-05, 'ho': 6.668000266720011e-05, 'Ze': 6.668000266720011e-05, 'hw': 6.668000266720011e-05, 'tp': 6.668000266720011e-05, 'iv': 6.668000266720011e-05, 'ee': 6.668000266720011e-05, 'lc': 6.668000266720011e-05, 'th': 6.668000266720011e-05, 'ßl': 6.668000266720011e-05, 'br': 6.668000266720011e-05, 'oc': 6.668000266720011e-05, 'tü': 6.668000266720011e-05, 'ms': 6.668000266720011e-05, 't;': 6.668000266720011e-05, 'sd': 6.668000266720011e-05, 'gs': 6.668000266720011e-05, 'mu': 6.668000266720011e-05, 'lm': 6.668000266720011e-05, 'ßi': 6.668000266720011e-05, 'Wa': 6.668000266720011e-05, 'sl': 6.668000266720011e-05, 'iz': 6.668000266720011e-05, 'Ki': 6.668000266720011e-05, 'olu': 6.668000266720011e-05, ' 21': 6.668000266720011e-05, ' 10': 6.668000266720011e-05, 'Ane': 6.668000266720011e-05, 'ebo': 6.668000266720011e-05, 'bor': 6.668000266720011e-05, 'ore': 6.668000266720011e-05, 'erä': 6.668000266720011e-05, 'äuß': 6.668000266720011e-05, 'dla': 6.668000266720011e-05, 'lag': 6.668000266720011e-05, 'age': 6.668000266720011e-05, 'rac': 6.668000266720011e-05, 'kte': 6.668000266720011e-05, 'i g': 6.668000266720011e-05, 's G': 6.668000266720011e-05, 'chh': 6.668000266720011e-05, 'hhe': 6.668000266720011e-05, 'fül': 6.668000266720011e-05, 'üll': 6.668000266720011e-05, 'wor': 6.668000266720011e-05, 'lt,': 6.668000266720011e-05, 'Gla': 6.668000266720011e-05, 'ube': 6.668000266720011e-05, 'nsf': 6.668000266720011e-05, 't v': 6.668000266720011e-05, 'd N': 6.668000266720011e-05, 'ilt': 6.668000266720011e-05, ' es': 6.668000266720011e-05, 's n': 6.668000266720011e-05, ' He': 6.668000266720011e-05, 'Her': 6.668000266720011e-05, 'ütz': 6.668000266720011e-05, 'tze': 6.668000266720011e-05, 'zen': 6.668000266720011e-05, 'dam': 6.668000266720011e-05, 'gez': 6.668000266720011e-05, 'ezw': 6.668000266720011e-05, 'zwu': 6.668000266720011e-05, 'ird': 6.668000266720011e-05, 'let': 6.668000266720011e-05, 'l z': 6.668000266720011e-05, 'nei': 6.668000266720011e-05, 'd U': 6.668000266720011e-05, 'gre': 6.668000266720011e-05, 'ntw': 6.668000266720011e-05, 'twi': 6.668000266720011e-05, 'wic': 6.668000266720011e-05, 'ick': 6.668000266720011e-05, 'ckl': 6.668000266720011e-05, 'klu': 6.668000266720011e-05, 'reu': 6.668000266720011e-05, 'ftl': 6.668000266720011e-05, 'zie': 6.668000266720011e-05, 'ieh': 6.668000266720011e-05, 'rn,': 6.668000266720011e-05, ' Vö': 6.668000266720011e-05, 'Völ': 6.668000266720011e-05, 'gru': 6.668000266720011e-05, 'dle': 6.668000266720011e-05, 'n M': 6.668000266720011e-05, 'te,': 6.668000266720011e-05, ' me': 6.668000266720011e-05, 'n P': 6.668000266720011e-05, 'd a': 6.668000266720011e-05, 'Gle': 6.668000266720011e-05, 'nn ': 6.668000266720011e-05, 'Fra': 6.668000266720011e-05, 'ut ': 6.668000266720011e-05, 'bek': 6.668000266720011e-05, 'igt': 6.668000266720011e-05, 'hlo': 6.668000266720011e-05, 'oss': 6.668000266720011e-05, 'For': 6.668000266720011e-05, 'hri': 6.668000266720011e-05, 'rit': 6.668000266720011e-05, 'ess': 6.668000266720011e-05, 'e L': 6.668000266720011e-05, 'nsb': 6.668000266720011e-05, 'bed': 6.668000266720011e-05, 'din': 6.668000266720011e-05, 'grö': 6.668000266720011e-05, 'röß': 6.668000266720011e-05, 'eds': 6.668000266720011e-05, 'dst': 6.668000266720011e-05, 'erp': 6.668000266720011e-05, 'rpf': 6.668000266720011e-05, 'pfl': 6.668000266720011e-05, 'n Z': 6.668000266720011e-05, 'Zus': 6.668000266720011e-05, 'ena': 6.668000266720011e-05, 'nar': 6.668000266720011e-05, ' Ac': 6.668000266720011e-05, 'Ach': 6.668000266720011e-05, 'hin': 6.668000266720011e-05, 'inz': 6.668000266720011e-05, 'zuw': 6.668000266720011e-05, 'uwi': 6.668000266720011e-05, 'nsa': 6.668000266720011e-05, 'nis': 6.668000266720011e-05, 'ößt': 6.668000266720011e-05, 't f': 6.668000266720011e-05, 'vol': 6.668000266720011e-05, 'Gen': 6.668000266720011e-05, 'ral': 6.668000266720011e-05, 'lve': 6.668000266720011e-05, 's v': 6.668000266720011e-05, 'l, ': 6.668000266720011e-05, 'nze': 6.668000266720011e-05, ' Or': 6.668000266720011e-05, 'Org': 6.668000266720011e-05, 'rga': 6.668000266720011e-05, 'ets': 6.668000266720011e-05, 'for': 6.668000266720011e-05, 'ort': 6.668000266720011e-05, 'rts': 6.668000266720011e-05, 'tsc': 6.668000266720011e-05, 'e n': 6.668000266720011e-05, 'Maß': 6.668000266720011e-05, ' ta': 6.668000266720011e-05, 'tat': 6.668000266720011e-05, 'tsä': 6.668000266720011e-05, 'säc': 6.668000266720011e-05, 'Bev': 6.668000266720011e-05, 'evö': 6.668000266720011e-05, 'völ': 6.668000266720011e-05, 'lbs': 6.668000266720011e-05, 'bst': 6.668000266720011e-05, 'auc': 6.668000266720011e-05, ' Ho': 6.668000266720011e-05, 'sge': 6.668000266720011e-05, 'ewa': 6.668000266720011e-05, 'wal': 6.668000266720011e-05, 'ebi': 6.668000266720011e-05, 'bie': 6.668000266720011e-05, 'iet': 6.668000266720011e-05, 'd f': 6.668000266720011e-05, 'd R': 6.668000266720011e-05, '. S': 6.668000266720011e-05, 'Sie': 6.668000266720011e-05, 'unf': 6.668000266720011e-05, 'beg': 6.668000266720011e-05, 'ega': 6.668000266720011e-05, 'gab': 6.668000266720011e-05, 'abt': 6.668000266720011e-05, 'chk': 6.668000266720011e-05, 'hke': 6.668000266720011e-05, '2\\nJ': 6.668000266720011e-05, 'rge': 6.668000266720011e-05, 'dei': 6.668000266720011e-05, 'ed,': 6.668000266720011e-05, ' Ra': 6.668000266720011e-05, 'Ras': 6.668000266720011e-05, 'se,': 6.668000266720011e-05, 'he,': 6.668000266720011e-05, ' po': 6.668000266720011e-05, 'sti': 6.668000266720011e-05, 'r Ü': 6.668000266720011e-05, ' Üb': 6.668000266720011e-05, 'Übe': 6.668000266720011e-05, 'erz': 6.668000266720011e-05, 'rze': 6.668000266720011e-05, 'zeu': 6.668000266720011e-05, 'eug': 6.668000266720011e-05, 'ugu': 6.668000266720011e-05, 'urt': 6.668000266720011e-05, 'm S': 6.668000266720011e-05, 'nd.': 6.668000266720011e-05, 'd. ': 6.668000266720011e-05, '\\nDe': 6.668000266720011e-05, 'wei': 6.668000266720011e-05, 'f k': 6.668000266720011e-05, 'mac': 6.668000266720011e-05, 'r p': 6.668000266720011e-05, 'm e': 6.668000266720011e-05, 'rt,': 6.668000266720011e-05, 'chg': 6.668000266720011e-05, ' ob': 6.668000266720011e-05, 'una': 6.668000266720011e-05, 'nab': 6.668000266720011e-05, 'abh': 6.668000266720011e-05, 'bhä': 6.668000266720011e-05, 'ngi': 6.668000266720011e-05, 'gig': 6.668000266720011e-05, 'uha': 6.668000266720011e-05, 'g b': 6.668000266720011e-05, 'itz': 6.668000266720011e-05, 'kt ': 6.668000266720011e-05, 'st.': 6.668000266720011e-05, 'r P': 6.668000266720011e-05, 'Lei': 6.668000266720011e-05, 'eig': 6.668000266720011e-05, 'enh': 6.668000266720011e-05, 'orm': 6.668000266720011e-05, 'aus': 6.668000266720011e-05, 'mer': 6.668000266720011e-05, 'unm': 6.668000266720011e-05, 'edr': 6.668000266720011e-05, '6\\nJ': 6.668000266720011e-05, ' üb': 6.668000266720011e-05, 'übe': 6.668000266720011e-05, 'l a': 6.668000266720011e-05, 'hts': 6.668000266720011e-05, 'tsf': 6.668000266720011e-05, 'sfä': 6.668000266720011e-05, 'fäh': 6.668000266720011e-05, 'ähi': 6.668000266720011e-05, 'hig': 6.668000266720011e-05, 'kan': 6.668000266720011e-05, 'h u': 6.668000266720011e-05, 'd h': 6.668000266720011e-05, 'd A': 6.668000266720011e-05, 'z d': 6.668000266720011e-05, 'tz.': 6.668000266720011e-05, 'z. ': 6.668000266720011e-05, '. A': 6.668000266720011e-05, 'e h': 6.668000266720011e-05, 'Dis': 6.668000266720011e-05, 'isk': 6.668000266720011e-05, 'skr': 6.668000266720011e-05, 'kri': 6.668000266720011e-05, 'rim': 6.668000266720011e-05, 'imi': 6.668000266720011e-05, '8\\nJ': 6.668000266720011e-05, 'rks': 6.668000266720011e-05, 'tsb': 6.668000266720011e-05, 'beh': 6.668000266720011e-05, 'f b': 6.668000266720011e-05, 'eri': 6.668000266720011e-05, 'ihm': 6.668000266720011e-05, 'hm ': 6.668000266720011e-05, 'ssu': 6.668000266720011e-05, 'fes': 6.668000266720011e-05, 'tge': 6.668000266720011e-05, 'eno': 6.668000266720011e-05, 'nom': 6.668000266720011e-05, 'rwi': 6.668000266720011e-05, 'e b': 6.668000266720011e-05, 'hn ': 6.668000266720011e-05, 'rho': 6.668000266720011e-05, 'Bes': 6.668000266720011e-05, 'hes': 6.668000266720011e-05, 'm u': 6.668000266720011e-05, '1\\nJ': 6.668000266720011e-05, 'lan': 6.668000266720011e-05, 'd n': 6.668000266720011e-05, 'eid': 6.668000266720011e-05, 'idi': 6.668000266720011e-05, 'g n': 6.668000266720011e-05, 'ara': 6.668000266720011e-05, 'r U': 6.668000266720011e-05, 'las': 6.668000266720011e-05, 'zur': 6.668000266720011e-05, 'ur ': 6.668000266720011e-05, ' Ze': 6.668000266720011e-05, 'Zei': 6.668000266720011e-05, 'chw': 6.668000266720011e-05, 'hwe': 6.668000266720011e-05, 'ngr': 6.668000266720011e-05, 'gri': 6.668000266720011e-05, 'iff': 6.668000266720011e-05, 'riv': 6.668000266720011e-05, 'iva': 6.668000266720011e-05, 'vat': 6.668000266720011e-05, 'keh': 6.668000266720011e-05, 'Bee': 6.668000266720011e-05, 'eei': 6.668000266720011e-05, 'ntr': 6.668000266720011e-05, 'trä': 6.668000266720011e-05, 'räc': 6.668000266720011e-05, 'ufe': 6.668000266720011e-05, 's a': 6.668000266720011e-05, 'olc': 6.668000266720011e-05, 'lch': 6.668000266720011e-05, 'e o': 6.668000266720011e-05, 'rha': 6.668000266720011e-05, 's S': 6.668000266720011e-05, 'i z': 6.668000266720011e-05, 'ewe': 6.668000266720011e-05, 'tha': 6.668000266720011e-05, 'lts': 6.668000266720011e-05, ' wä': 6.668000266720011e-05, 'ähl': 6.668000266720011e-05, 'eßl': 6.668000266720011e-05, 'ßli': 6.668000266720011e-05, 's e': 6.668000266720011e-05, 'lgu': 6.668000266720011e-05, ' su': 6.668000266720011e-05, 'suc': 6.668000266720011e-05, '\\nDi': 6.668000266720011e-05, 'm F': 6.668000266720011e-05, 'Fal': 6.668000266720011e-05, 'rbr': 6.668000266720011e-05, 'bre': 6.668000266720011e-05, 'e Z': 6.668000266720011e-05, 'ele': 6.668000266720011e-05, '5\\nJ': 6.668000266720011e-05, 'f s': 6.668000266720011e-05, ' en': 6.668000266720011e-05, 'och': 6.668000266720011e-05, 'wec': 6.668000266720011e-05, 'hse': 6.668000266720011e-05, 'eir': 6.668000266720011e-05, 'ira': 6.668000266720011e-05, 'rat': 6.668000266720011e-05, 'r u': 6.668000266720011e-05, 'ünf': 6.668000266720011e-05, 'gat': 6.668000266720011e-05, 'nhe': 6.668000266720011e-05, 'ohl': 6.668000266720011e-05, 'hl ': 6.668000266720011e-05, 'Eig': 6.668000266720011e-05, 'ntu': 6.668000266720011e-05, 'tum': 6.668000266720011e-05, 'zuh': 6.668000266720011e-05, 's b': 6.668000266720011e-05, 'Ged': 6.668000266720011e-05, 'eda': 6.668000266720011e-05, 'dan': 6.668000266720011e-05, 'nke': 6.668000266720011e-05, 't; ': 6.668000266720011e-05, 'eßt': 6.668000266720011e-05, 'ßt ': 6.668000266720011e-05, 'in,': 6.668000266720011e-05, 'Aus': 6.668000266720011e-05, 'd K': 6.668000266720011e-05, 'ult': 6.668000266720011e-05, 'ngs': 6.668000266720011e-05, 'anz': 6.668000266720011e-05, 'cks': 6.668000266720011e-05, 'ksi': 6.668000266720011e-05, 'r ö': 6.668000266720011e-05, 'hlt': 6.668000266720011e-05, 'ret': 6.668000266720011e-05, 'de.': 6.668000266720011e-05, 'Der': 6.668000266720011e-05, 'tor': 6.668000266720011e-05, 'ori': 6.668000266720011e-05, ' mu': 6.668000266720011e-05, 'muß': 6.668000266720011e-05, 'elm': 6.668000266720011e-05, 'lmä': 6.668000266720011e-05, 'äßi': 6.668000266720011e-05, 'ßig': 6.668000266720011e-05, ' Wa': 6.668000266720011e-05, 'Wah': 6.668000266720011e-05, 'n f': 6.668000266720011e-05, 'ruf': 6.668000266720011e-05, 'bef': 6.668000266720011e-05, 'efr': 6.668000266720011e-05, 'tsl': 6.668000266720011e-05, 'slo': 6.668000266720011e-05, 'osi': 6.668000266720011e-05, 'sig': 6.668000266720011e-05, 'z s': 6.668000266720011e-05, 'eiz': 6.668000266720011e-05, 'zei': 6.668000266720011e-05, 'ond': 6.668000266720011e-05, ', K': 6.668000266720011e-05, 'org': 6.668000266720011e-05, ' Ki': 6.668000266720011e-05, 'Kin': 6.668000266720011e-05, '. D': 6.668000266720011e-05, '(': 3.3340001333600056e-05, ')': 3.3340001333600056e-05, 'C': 3.3340001333600056e-05, 'Ä': 3.3340001333600056e-05, 'x': 3.3340001333600056e-05, 'e\\n': 3.3340001333600056e-05, '\\nR': 3.3340001333600056e-05, '7 ': 3.3340001333600056e-05, 'A ': 3.3340001333600056e-05, ' (': 3.3340001333600056e-05, '(I': 3.3340001333600056e-05, 'I)': 3.3340001333600056e-05, ') ': 3.3340001333600056e-05, '0.': 3.3340001333600056e-05, '2.': 3.3340001333600056e-05, '94': 3.3340001333600056e-05, '48': 3.3340001333600056e-05, '8 ': 3.3340001333600056e-05, '\\nP': 3.3340001333600056e-05, 'äa': 3.3340001333600056e-05, 'mb': 3.3340001333600056e-05, 'l\\n': 3.3340001333600056e-05, 'Da': 3.3340001333600056e-05, 'Ak': 3.3340001333600056e-05, 'Ba': 3.3340001333600056e-05, 'Em': 3.3340001333600056e-05, 'pö': 3.3340001333600056e-05, 'e-': 3.3340001333600056e-05, 'Fu': 3.3340001333600056e-05, 'No': 3.3340001333600056e-05, 'öc': 3.3340001333600056e-05, 'hü': 3.3340001333600056e-05, ' l': 3.3340001333600056e-05, 'Ty': 3.3340001333600056e-05, 'yr': 3.3340001333600056e-05, ' C': 3.3340001333600056e-05, 'Ch': 3.3340001333600056e-05, 'hb': 3.3340001333600056e-05, 'äf': 3.3340001333600056e-05, 'df': 3.3340001333600056e-05, 'dn': 3.3340001333600056e-05, '\\nv': 3.3340001333600056e-05, 'ml': 3.3340001333600056e-05, 'Id': 3.3340001333600056e-05, 'ea': 3.3340001333600056e-05, 'nw': 3.3340001333600056e-05, 'Br': 3.3340001333600056e-05, 'üd': 3.3340001333600056e-05, 'gn': 3.3340001333600056e-05, 'tf': 3.3340001333600056e-05, 'Sp': 3.3340001333600056e-05, 'mö': 3.3340001333600056e-05, 'ög': 3.3340001333600056e-05, 's,': 3.3340001333600056e-05, 'gü': 3.3340001333600056e-05, 'Tr': 3.3340001333600056e-05, 'Se': 3.3340001333600056e-05, 'So': 3.3340001333600056e-05, 'ou': 3.3340001333600056e-05, 'uv': 3.3340001333600056e-05, ' 3': 3.3340001333600056e-05, ' 4': 3.3340001333600056e-05, 'ib': 3.3340001333600056e-05, 'n;': 3.3340001333600056e-05, ' 5': 3.3340001333600056e-05, ' 6': 3.3340001333600056e-05, ' 7': 3.3340001333600056e-05, 'tö': 3.3340001333600056e-05, 'fh': 3.3340001333600056e-05, ' 8': 3.3340001333600056e-05, 'lf': 3.3340001333600056e-05, ' 9': 3.3340001333600056e-05, 'Fe': 3.3340001333600056e-05, 'Pf': 3.3340001333600056e-05, 'np': 3.3340001333600056e-05, 'pa': 3.3340001333600056e-05, 'ii': 3.3340001333600056e-05, '11': 3.3340001333600056e-05, 'Ga': 3.3340001333600056e-05, 'r.': 3.3340001333600056e-05, 'Eb': 3.3340001333600056e-05, 'o ': 3.3340001333600056e-05, 'pu': 3.3340001333600056e-05, 'ro': 3.3340001333600056e-05, 'tv': 3.3340001333600056e-05, 'Ru': 3.3340001333600056e-05, ' J': 3.3340001333600056e-05, '13': 3.3340001333600056e-05, 'kz': 3.3340001333600056e-05, 'uk': 3.3340001333600056e-05, '14': 3.3340001333600056e-05, 'Lä': 3.3340001333600056e-05, 'As': 3.3340001333600056e-05, 'sy': 3.3340001333600056e-05, 'yl': 3.3340001333600056e-05, 'fv': 3.3340001333600056e-05, 'Zi': 3.3340001333600056e-05, 'oß': 3.3340001333600056e-05, '15': 3.3340001333600056e-05, 'zo': 3.3340001333600056e-05, 'og': 3.3340001333600056e-05, 'gh': 3.3340001333600056e-05, '16': 3.3340001333600056e-05, '\\nH': 3.3340001333600056e-05, 'ue': 3.3340001333600056e-05, 'Mä': 3.3340001333600056e-05, 'ßu': 3.3340001333600056e-05, 'lö': 3.3340001333600056e-05, 'ös': 3.3340001333600056e-05, '\\nE': 3.3340001333600056e-05, '18': 3.3340001333600056e-05, 'n-': 3.3340001333600056e-05, '-,': 3.3340001333600056e-05, 's-': 3.3340001333600056e-05, 'uu': 3.3340001333600056e-05, 'sü': 3.3340001333600056e-05, 'Go': 3.3340001333600056e-05, 'Ku': 3.3340001333600056e-05, 'g;': 3.3340001333600056e-05, 'Rü': 3.3340001333600056e-05, '20': 3.3340001333600056e-05, ' Ä': 3.3340001333600056e-05, 'Äm': 3.3340001333600056e-05, 'mt': 3.3340001333600056e-05, 'Vo': 3.3340001333600056e-05, 'äl': 3.3340001333600056e-05, 'bg': 3.3340001333600056e-05, 'k ': 3.3340001333600056e-05, 'ko': 3.3340001333600056e-05, '22': 3.3340001333600056e-05, 'f,': 3.3340001333600056e-05, 'sö': 3.3340001333600056e-05, 'ön': 3.3340001333600056e-05, 'nl': 3.3340001333600056e-05, 'tb': 3.3340001333600056e-05, '23': 3.3340001333600056e-05, 'sw': 3.3340001333600056e-05, 'Lo': 3.3340001333600056e-05, 'Ex': 3.3340001333600056e-05, 'xi': 3.3340001333600056e-05, 'gä': 3.3340001333600056e-05, 'zm': 3.3340001333600056e-05, '24': 3.3340001333600056e-05, '4 ': 3.3340001333600056e-05, 'nü': 3.3340001333600056e-05, 'sz': 3.3340001333600056e-05, 'za': 3.3340001333600056e-05, 'Ur': 3.3340001333600056e-05, 'b.': 3.3340001333600056e-05, '25': 3.3340001333600056e-05, 'dh': 3.3340001333600056e-05, 'Kl': 3.3340001333600056e-05, ' ä': 3.3340001333600056e-05, 'Kr': 3.3340001333600056e-05, 'kh': 3.3340001333600056e-05, 'sm': 3.3340001333600056e-05, 'Um': 3.3340001333600056e-05, '\\nM': 3.3340001333600056e-05, 'Mü': 3.3340001333600056e-05, 'Fü': 3.3340001333600056e-05, '26': 3.3340001333600056e-05, 'h,': 3.3340001333600056e-05, 'bl': 3.3340001333600056e-05, 'h.': 3.3340001333600056e-05, 'h-': 3.3340001333600056e-05, 'üs': 3.3340001333600056e-05, 'üg': 3.3340001333600056e-05, 'gb': 3.3340001333600056e-05, 'te\\n': 3.3340001333600056e-05, 'e\\nR': 3.3340001333600056e-05, '\\nRe': 3.3340001333600056e-05, 'Res': 3.3340001333600056e-05, 'lut': 3.3340001333600056e-05, 'uti': 3.3340001333600056e-05, 'n 2': 3.3340001333600056e-05, '217': 3.3340001333600056e-05, '17 ': 3.3340001333600056e-05, '7 A': 3.3340001333600056e-05, ' A ': 3.3340001333600056e-05, 'A (': 3.3340001333600056e-05, ' (I': 3.3340001333600056e-05, '(II': 3.3340001333600056e-05, 'III': 3.3340001333600056e-05, 'II)': 3.3340001333600056e-05, 'I) ': 3.3340001333600056e-05, ') v': 3.3340001333600056e-05, 'vom': 3.3340001333600056e-05, 'om ': 3.3340001333600056e-05, 'm 1': 3.3340001333600056e-05, '10.': 3.3340001333600056e-05, '0.1': 3.3340001333600056e-05, '.12': 3.3340001333600056e-05, '12.': 3.3340001333600056e-05, '2.1': 3.3340001333600056e-05, '.19': 3.3340001333600056e-05, '194': 3.3340001333600056e-05, '948': 3.3340001333600056e-05, '48 ': 3.3340001333600056e-05, '8 \\n': 3.3340001333600056e-05, '\\n\\nP': 3.3340001333600056e-05, '\\nPr': 3.3340001333600056e-05, 'Prä': 3.3340001333600056e-05, 'räa': 3.3340001333600056e-05, 'äam': 3.3340001333600056e-05, 'amb': 3.3340001333600056e-05, 'mbe': 3.3340001333600056e-05, 'bel': 3.3340001333600056e-05, 'el\\n': 3.3340001333600056e-05, 'l\\nD': 3.3340001333600056e-05, '\\nDa': 3.3340001333600056e-05, 'Da ': 3.3340001333600056e-05, 'räu': 3.3340001333600056e-05, 'Fri': 3.3340001333600056e-05, 'e N': 3.3340001333600056e-05, ' Ni': 3.3340001333600056e-05, 'Nic': 3.3340001333600056e-05, 'hta': 3.3340001333600056e-05, 'd V': 3.3340001333600056e-05, 'u A': 3.3340001333600056e-05, ' Ak': 3.3340001333600056e-05, 'Akt': 3.3340001333600056e-05, ' Ba': 3.3340001333600056e-05, 'Bar': 3.3340001333600056e-05, 'rba': 3.3340001333600056e-05, 'gef': 3.3340001333600056e-05, 'efü': 3.3340001333600056e-05, 'füh': 3.3340001333600056e-05, 'ühr': 3.3340001333600056e-05, 'hrt': 3.3340001333600056e-05, 't E': 3.3340001333600056e-05, ' Em': 3.3340001333600056e-05, 'Emp': 3.3340001333600056e-05, 'mpö': 3.3340001333600056e-05, 'pör': 3.3340001333600056e-05, 'öru': 3.3340001333600056e-05, 'g e': 3.3340001333600056e-05, 'a v': 3.3340001333600056e-05, ' wo': 3.3340001333600056e-05, 'ord': 3.3340001333600056e-05, 'daß': 3.3340001333600056e-05, 'aß ': 3.3340001333600056e-05, 'ß e': 3.3340001333600056e-05, 'Red': 3.3340001333600056e-05, 'de-': 3.3340001333600056e-05, 'e- ': 3.3340001333600056e-05, ' Fu': 3.3340001333600056e-05, 'Fur': 3.3340001333600056e-05, ' No': 3.3340001333600056e-05, 'Not': 3.3340001333600056e-05, 'ot ': 3.3340001333600056e-05, 's h': 3.3340001333600056e-05, ' hö': 3.3340001333600056e-05, 'höc': 3.3340001333600056e-05, 'öch': 3.3340001333600056e-05, 'hst': 3.3340001333600056e-05, 'reb': 3.3340001333600056e-05, ' gi': 3.3340001333600056e-05, 'gil': 3.3340001333600056e-05, 'e H': 3.3340001333600056e-05, 'rrs': 3.3340001333600056e-05, 's z': 3.3340001333600056e-05, 'chü': 3.3340001333600056e-05, 'hüt': 3.3340001333600056e-05, 'h n': 3.3340001333600056e-05, 's l': 3.3340001333600056e-05, ' le': 3.3340001333600056e-05, 'zte': 3.3340001333600056e-05, 'fst': 3.3340001333600056e-05, 'n T': 3.3340001333600056e-05, ' Ty': 3.3340001333600056e-05, 'Tyr': 3.3340001333600056e-05, 'yra': 3.3340001333600056e-05, 'rdr': 3.3340001333600056e-05, 'drü': 3.3340001333600056e-05, 'cku': 3.3340001333600056e-05, 'eif': 3.3340001333600056e-05, 'ife': 3.3340001333600056e-05, 'g f': 3.3340001333600056e-05, 'eun': 3.3340001333600056e-05, 'Bez': 3.3340001333600056e-05, 'ezi': 3.3340001333600056e-05, ' zw': 3.3340001333600056e-05, 'zwi': 3.3340001333600056e-05, 'r C': 3.3340001333600056e-05, ' Ch': 3.3340001333600056e-05, 'Cha': 3.3340001333600056e-05, 'har': 3.3340001333600056e-05, 'rta': 3.3340001333600056e-05, 'ta ': 3.3340001333600056e-05, 'a i': 3.3340001333600056e-05, 'Wer': 3.3340001333600056e-05, 'chb': 3.3340001333600056e-05, 'hbe': 3.3340001333600056e-05, 'Man': 3.3340001333600056e-05, 'au ': 3.3340001333600056e-05, 'rne': 3.3340001333600056e-05, 'neu': 3.3340001333600056e-05, 'eut': 3.3340001333600056e-05, 'ekr': 3.3340001333600056e-05, 'krä': 3.3340001333600056e-05, 'räf': 3.3340001333600056e-05, 'äft': 3.3340001333600056e-05, 'ors': 3.3340001333600056e-05, 'tt ': 3.3340001333600056e-05, 'öße': 3.3340001333600056e-05, 'h v': 3.3340001333600056e-05, 'ndf': 3.3340001333600056e-05, 'dfr': 3.3340001333600056e-05, ' hi': 3.3340001333600056e-05, 'mes': 3.3340001333600056e-05, 'ndn': 3.3340001333600056e-05, 'dni': 3.3340001333600056e-05, 'is ': 3.3340001333600056e-05, 'ßte': 3.3340001333600056e-05, 'Wic': 3.3340001333600056e-05, 'Erf': 3.3340001333600056e-05, '\\n\\nv': 3.3340001333600056e-05, '\\nve': 3.3340001333600056e-05, 'alv': 3.3340001333600056e-05, 'mml': 3.3340001333600056e-05, 'mlu': 3.3340001333600056e-05, 'g \\n': 3.3340001333600056e-05, '\\ndi': 3.3340001333600056e-05, 'rre': 3.3340001333600056e-05, 'me ': 3.3340001333600056e-05, 'e I': 3.3340001333600056e-05, ' Id': 3.3340001333600056e-05, 'Ide': 3.3340001333600056e-05, 'dea': 3.3340001333600056e-05, 'eal': 3.3340001333600056e-05, 'al,': 3.3340001333600056e-05, 't j': 3.3340001333600056e-05, 'zel': 3.3340001333600056e-05, 'lne': 3.3340001333600056e-05, 'e O': 3.3340001333600056e-05, 'ts ': 3.3340001333600056e-05, 's g': 3.3340001333600056e-05, 'enw': 3.3340001333600056e-05, 'nwä': 3.3340001333600056e-05, 'wär': 3.3340001333600056e-05, 'ärt': 3.3340001333600056e-05, 'g h': 3.3340001333600056e-05, 'h b': 3.3340001333600056e-05, 'bem': 3.3340001333600056e-05, 'emü': 3.3340001333600056e-05, 'müh': 3.3340001333600056e-05, 'ühe': 3.3340001333600056e-05, 'h U': 3.3340001333600056e-05, 'Erz': 3.3340001333600056e-05, 'rzi': 3.3340001333600056e-05, ' fo': 3.3340001333600056e-05, 'd t': 3.3340001333600056e-05, 'Hoh': 3.3340001333600056e-05, 'ohe': 3.3340001333600056e-05, 'tsg': 3.3340001333600056e-05, ' 1\\n': 3.3340001333600056e-05, '1\\nA': 3.3340001333600056e-05, 'd m': 3.3340001333600056e-05, 't V': 3.3340001333600056e-05, 'rnu': 3.3340001333600056e-05, 'ina': 3.3340001333600056e-05, 'nan': 3.3340001333600056e-05, 'Gei': 3.3340001333600056e-05, ' Br': 3.3340001333600056e-05, 'Brü': 3.3340001333600056e-05, 'rüd': 3.3340001333600056e-05, 'üde': 3.3340001333600056e-05, 'egn': 3.3340001333600056e-05, 'gne': 3.3340001333600056e-05, ' 2\\n': 3.3340001333600056e-05, ' ir': 3.3340001333600056e-05, 'irg': 3.3340001333600056e-05, ' et': 3.3340001333600056e-05, 'etw': 3.3340001333600056e-05, 'twa': 3.3340001333600056e-05, 'wa ': 3.3340001333600056e-05, 'a n': 3.3340001333600056e-05, 'h R': 3.3340001333600056e-05, ', H': 3.3340001333600056e-05, 'Hau': 3.3340001333600056e-05, 'aut': 3.3340001333600056e-05, 'utf': 3.3340001333600056e-05, 'tfa': 3.3340001333600056e-05, 'far': 3.3340001333600056e-05, 'be,': 3.3340001333600056e-05, 'lec': 3.3340001333600056e-05, ', S': 3.3340001333600056e-05, ' Sp': 3.3340001333600056e-05, 'Spr': 3.3340001333600056e-05, 'pra': 3.3340001333600056e-05, ', R': 3.3340001333600056e-05, 'on,': 3.3340001333600056e-05, ', p': 3.3340001333600056e-05, ', n': 3.3340001333600056e-05, 'rku': 3.3340001333600056e-05, 'ft,': 3.3340001333600056e-05, ', V': 3.3340001333600056e-05, 'erm': 3.3340001333600056e-05, 'rmö': 3.3340001333600056e-05, 'mög': 3.3340001333600056e-05, 'öge': 3.3340001333600056e-05, 'ebu': 3.3340001333600056e-05, 'bur': 3.3340001333600056e-05, '\\n\\nD': 3.3340001333600056e-05, 'Des': 3.3340001333600056e-05, 's w': 3.3340001333600056e-05, ', r': 3.3340001333600056e-05, 'Ste': 3.3340001333600056e-05, 's o': 3.3340001333600056e-05, 'ts,': 3.3340001333600056e-05, 's, ': 3.3340001333600056e-05, 'e P': 3.3340001333600056e-05, 'ört': 3.3340001333600056e-05, 'hgü': 3.3340001333600056e-05, 'gül': 3.3340001333600056e-05, 'ült': 3.3340001333600056e-05, 'lti': 3.3340001333600056e-05, 'ob ': 3.3340001333600056e-05, 'b d': 3.3340001333600056e-05, 'r T': 3.3340001333600056e-05, ' Tr': 3.3340001333600056e-05, 'Tre': 3.3340001333600056e-05, 'euh': 3.3340001333600056e-05, 'eht': 3.3340001333600056e-05, ', k': 3.3340001333600056e-05, ' Se': 3.3340001333600056e-05, 'Sel': 3.3340001333600056e-05, 'egi': 3.3340001333600056e-05, 'gie': 3.3340001333600056e-05, 'esi': 3.3340001333600056e-05, 'sit': 3.3340001333600056e-05, ' So': 3.3340001333600056e-05, 'Sou': 3.3340001333600056e-05, 'ouv': 3.3340001333600056e-05, 'uve': 3.3340001333600056e-05, 'äni': 3.3340001333600056e-05, 'nit': 3.3340001333600056e-05, 'l 3': 3.3340001333600056e-05, ' 3\\n': 3.3340001333600056e-05, 'f L': 3.3340001333600056e-05, ', F': 3.3340001333600056e-05, 'on.': 3.3340001333600056e-05, 'l 4': 3.3340001333600056e-05, ' 4\\n': 3.3340001333600056e-05, '4\\nN': 3.3340001333600056e-05, 'f i': 3.3340001333600056e-05, 'i o': 3.3340001333600056e-05, 'r L': 3.3340001333600056e-05, 'eib': 3.3340001333600056e-05, 'ibe': 3.3340001333600056e-05, 'en;': 3.3340001333600056e-05, 'n; ': 3.3340001333600056e-05, '; S': 3.3340001333600056e-05, 'ven': 3.3340001333600056e-05, 'del': 3.3340001333600056e-05, 'l s': 3.3340001333600056e-05, 'rme': 3.3340001333600056e-05, 'rbo': 3.3340001333600056e-05, 'bot': 3.3340001333600056e-05, 'ote': 3.3340001333600056e-05, 'l 5': 3.3340001333600056e-05, ' 5\\n': 3.3340001333600056e-05, '5\\nN': 3.3340001333600056e-05, 'Fol': 3.3340001333600056e-05, 'olt': 3.3340001333600056e-05, 'gra': 3.3340001333600056e-05, 'nme': 3.3340001333600056e-05, 'rni': 3.3340001333600056e-05, 'dri': 3.3340001333600056e-05, 'Beh': 3.3340001333600056e-05, 'rwo': 3.3340001333600056e-05, 'orf': 3.3340001333600056e-05, 'rfe': 3.3340001333600056e-05, 'l 6': 3.3340001333600056e-05, ' 6\\n': 3.3340001333600056e-05, ', ü': 3.3340001333600056e-05, 'll ': 3.3340001333600056e-05, 's r': 3.3340001333600056e-05, 'rka': 3.3340001333600056e-05, 'nnt': 3.3340001333600056e-05, 'nt ': 3.3340001333600056e-05, 'l 7': 3.3340001333600056e-05, ' 7\\n': 3.3340001333600056e-05, '7\\nA': 3.3340001333600056e-05, 'e D': 3.3340001333600056e-05, 'stö': 3.3340001333600056e-05, 'töß': 3.3340001333600056e-05, 'ßt,': 3.3340001333600056e-05, 'ufh': 3.3340001333600056e-05, 'fhe': 3.3340001333600056e-05, 'het': 3.3340001333600056e-05, 'rar': 3.3340001333600056e-05, 'n D': 3.3340001333600056e-05, 'l 8': 3.3340001333600056e-05, ' 8\\n': 3.3340001333600056e-05, 'ksa': 3.3340001333600056e-05, 'elf': 3.3340001333600056e-05, 'lf ': 3.3340001333600056e-05, 'm n': 3.3340001333600056e-05, 'fas': 3.3340001333600056e-05, 'r n': 3.3340001333600056e-05, 'z z': 3.3340001333600056e-05, 'ndr': 3.3340001333600056e-05, 'dre': 3.3340001333600056e-05, 'l 9': 3.3340001333600056e-05, ' 9\\n': 3.3340001333600056e-05, '9\\nN': 3.3340001333600056e-05, ' fe': 3.3340001333600056e-05, 'stg': 3.3340001333600056e-05, 'Haf': 3.3340001333600056e-05, '10\\n': 3.3340001333600056e-05, '0\\nJ': 3.3340001333600056e-05, ' Fe': 3.3340001333600056e-05, 'Fes': 3.3340001333600056e-05, 'sts': 3.3340001333600056e-05, 'tst': 3.3340001333600056e-05, 'd P': 3.3340001333600056e-05, ' Pf': 3.3340001333600056e-05, 'Pfl': 3.3340001333600056e-05, 'i e': 3.3340001333600056e-05, 'ihn': 3.3340001333600056e-05, 'hob': 3.3340001333600056e-05, 'obe': 3.3340001333600056e-05, 'afr': 3.3340001333600056e-05, 'n B': 3.3340001333600056e-05, 'd ö': 3.3340001333600056e-05, 'unp': 3.3340001333600056e-05, 'npa': 3.3340001333600056e-05, 'par': 3.3340001333600056e-05, 'eii': 3.3340001333600056e-05, 'iis': 3.3340001333600056e-05, 'ht.': 3.3340001333600056e-05, ' 11': 3.3340001333600056e-05, '11\\n': 3.3340001333600056e-05, 'uns': 3.3340001333600056e-05, 'ola': 3.3340001333600056e-05, 'ld ': 3.3340001333600056e-05, 'm ö': 3.3340001333600056e-05, ' Ga': 3.3340001333600056e-05, 'Gar': 3.3340001333600056e-05, 'ant': 3.3340001333600056e-05, 'nti': 3.3340001333600056e-05, 'tie': 3.3340001333600056e-05, 'at,': 3.3340001333600056e-05, 'emä': 3.3340001333600056e-05, 'äß ': 3.3340001333600056e-05, 'z n': 3.3340001333600056e-05, 'hge': 3.3340001333600056e-05, 'rur': 3.3340001333600056e-05, 'eil': 3.3340001333600056e-05, 'r Z': 3.3340001333600056e-05, 'hem': 3.3340001333600056e-05, 'm o': 3.3340001333600056e-05, 'lem': 3.3340001333600056e-05, 'm R': 3.3340001333600056e-05, 't n': 3.3340001333600056e-05, ' wa': 3.3340001333600056e-05, 'war': 3.3340001333600056e-05, 'ar.': 3.3340001333600056e-05, 'r. ': 3.3340001333600056e-05, '. E': 3.3340001333600056e-05, ' Eb': 3.3340001333600056e-05, 'Ebe': 3.3340001333600056e-05, 'nso': 3.3340001333600056e-05, 'so ': 3.3340001333600056e-05, 'o d': 3.3340001333600056e-05, 'm Z': 3.3340001333600056e-05, 'itp': 3.3340001333600056e-05, 'tpu': 3.3340001333600056e-05, 'pun': 3.3340001333600056e-05, 'unk': 3.3340001333600056e-05, 'ged': 3.3340001333600056e-05, 'dro': 3.3340001333600056e-05, 'roh': 3.3340001333600056e-05, 'oht': 3.3340001333600056e-05, 'rhä': 3.3340001333600056e-05, 'ngt': 3.3340001333600056e-05, ' 12': 3.3340001333600056e-05, '12\\n': 3.3340001333600056e-05, '2\\nN': 3.3340001333600056e-05, ' Pr': 3.3340001333600056e-05, 'Pri': 3.3340001333600056e-05, 'tle': 3.3340001333600056e-05, 'leb': 3.3340001333600056e-05, 'ie,': 3.3340001333600056e-05, 'ift': 3.3340001333600056e-05, 'ftv': 3.3340001333600056e-05, 'tve': 3.3340001333600056e-05, 'hr ': 3.3340001333600056e-05, 'Ehr': 3.3340001333600056e-05, ' Ru': 3.3340001333600056e-05, 'Ruf': 3.3340001333600056e-05, 'usg': 3.3340001333600056e-05, '. J': 3.3340001333600056e-05, ' Je': 3.3340001333600056e-05, 'f r': 3.3340001333600056e-05, ' 13': 3.3340001333600056e-05, '13\\n': 3.3340001333600056e-05, 'alb': 3.3340001333600056e-05, 'lb ': 3.3340001333600056e-05, 'b e': 3.3340001333600056e-05, 's f': 3.3340001333600056e-05, 'bew': 3.3340001333600056e-05, 'nth': 3.3340001333600056e-05, 'tso': 3.3340001333600056e-05, ', j': 3.3340001333600056e-05, 'nd,': 3.3340001333600056e-05, 'urü': 3.3340001333600056e-05, 'ckz': 3.3340001333600056e-05, 'kzu': 3.3340001333600056e-05, 'zuk': 3.3340001333600056e-05, 'uke': 3.3340001333600056e-05, ' 14': 3.3340001333600056e-05, '14\\n': 3.3340001333600056e-05, '4\\nJ': 3.3340001333600056e-05, ' Lä': 3.3340001333600056e-05, 'Län': 3.3340001333600056e-05, 'g A': 3.3340001333600056e-05, ' As': 3.3340001333600056e-05, 'Asy': 3.3340001333600056e-05, 'syl': 3.3340001333600056e-05, 'yl ': 3.3340001333600056e-05, 't k': 3.3340001333600056e-05, ' ka': 3.3340001333600056e-05, 'h g': 3.3340001333600056e-05, 'afv': 3.3340001333600056e-05, 'fve': 3.3340001333600056e-05, 'e t': 3.3340001333600056e-05, 'htp': 3.3340001333600056e-05, 'tpo': 3.3340001333600056e-05, 'lgt': 3.3340001333600056e-05, 'gt,': 3.3340001333600056e-05, ' Zi': 3.3340001333600056e-05, 'Zie': 3.3340001333600056e-05, 'iel': 3.3340001333600056e-05, 'dsä': 3.3340001333600056e-05, 'sät': 3.3340001333600056e-05, 'ätz': 3.3340001333600056e-05, 'ze ': 3.3340001333600056e-05, 'sto': 3.3340001333600056e-05, 'toß': 3.3340001333600056e-05, 'oße': 3.3340001333600056e-05, ' 15': 3.3340001333600056e-05, '15\\n': 3.3340001333600056e-05, 'm d': 3.3340001333600056e-05, 'h e': 3.3340001333600056e-05, 'ntz': 3.3340001333600056e-05, 'tzo': 3.3340001333600056e-05, 'zog': 3.3340001333600056e-05, 'oge': 3.3340001333600056e-05, 'noc': 3.3340001333600056e-05, 'sag': 3.3340001333600056e-05, 'agt': 3.3340001333600056e-05, 'ngh': 3.3340001333600056e-05, 'ghö': 3.3340001333600056e-05, 'ln.': 3.3340001333600056e-05, ' 16': 3.3340001333600056e-05, '16\\n': 3.3340001333600056e-05, '6\\nH': 3.3340001333600056e-05, '\\nHe': 3.3340001333600056e-05, 'Hei': 3.3340001333600056e-05, 'aue': 3.3340001333600056e-05, 'uen': 3.3340001333600056e-05, 'd M': 3.3340001333600056e-05, ' Mä': 3.3340001333600056e-05, 'Män': 3.3340001333600056e-05, 'änn': 3.3340001333600056e-05, 'nku': 3.3340001333600056e-05, 'u h': 3.3340001333600056e-05, ' he': 3.3340001333600056e-05, 'd e': 3.3340001333600056e-05, 'grü': 3.3340001333600056e-05, 'rün': 3.3340001333600056e-05, 'eßu': 3.3340001333600056e-05, 'ßun': 3.3340001333600056e-05, ', w': 3.3340001333600056e-05, 'ufl': 3.3340001333600056e-05, 'flö': 3.3340001333600056e-05, 'lös': 3.3340001333600056e-05, 'ösu': 3.3340001333600056e-05, 'g g': 3.3340001333600056e-05, 'te.': 3.3340001333600056e-05, ' \\nE': 3.3340001333600056e-05, '\\nEi': 3.3340001333600056e-05, 'f n': 3.3340001333600056e-05, ' nu': 3.3340001333600056e-05, 'nur': 3.3340001333600056e-05, 'r b': 3.3340001333600056e-05, 'i f': 3.3340001333600056e-05, 'nse': 3.3340001333600056e-05, 'r k': 3.3340001333600056e-05, ' kü': 3.3340001333600056e-05, 'heg': 3.3340001333600056e-05, 'att': 3.3340001333600056e-05, 'atü': 3.3340001333600056e-05, 'tür': 3.3340001333600056e-05, 'h G': 3.3340001333600056e-05, 'at.': 3.3340001333600056e-05, ' 17': 3.3340001333600056e-05, '17\\n': 3.3340001333600056e-05, '7\\nJ': 3.3340001333600056e-05, 'owo': 3.3340001333600056e-05, 'woh': 3.3340001333600056e-05, 'm i': 3.3340001333600056e-05, 'nez': 3.3340001333600056e-05, 'ezu': 3.3340001333600056e-05, 's E': 3.3340001333600056e-05, 'ums': 3.3340001333600056e-05, 'ms ': 3.3340001333600056e-05, 'ubt': 3.3340001333600056e-05, ' 18': 3.3340001333600056e-05, '18\\n': 3.3340001333600056e-05, 'en-': 3.3340001333600056e-05, 'n-,': 3.3340001333600056e-05, '-, ': 3.3340001333600056e-05, 'ns-': 3.3340001333600056e-05, 's- ': 3.3340001333600056e-05, 'it;': 3.3340001333600056e-05, 'ln,': 3.3340001333600056e-05, 'lta': 3.3340001333600056e-05, 'ans': 3.3340001333600056e-05, 'hau': 3.3340001333600056e-05, 'auu': 3.3340001333600056e-05, 'uun': 3.3340001333600056e-05, ', ö': 3.3340001333600056e-05, 'h o': 3.3340001333600056e-05, ' pr': 3.3340001333600056e-05, 'pri': 3.3340001333600056e-05, 'h L': 3.3340001333600056e-05, 'Leh': 3.3340001333600056e-05, 're,': 3.3340001333600056e-05, ', A': 3.3340001333600056e-05, 'usü': 3.3340001333600056e-05, 'süb': 3.3340001333600056e-05, 'übu': 3.3340001333600056e-05, 'bun': 3.3340001333600056e-05, ' Go': 3.3340001333600056e-05, 'Got': 3.3340001333600056e-05, 'ott': 3.3340001333600056e-05, 'esd': 3.3340001333600056e-05, 'sdi': 3.3340001333600056e-05, ' Ku': 3.3340001333600056e-05, 'Kul': 3.3340001333600056e-05, 'lth': 3.3340001333600056e-05, 'eke': 3.3340001333600056e-05, ' 19': 3.3340001333600056e-05, '19\\n': 3.3340001333600056e-05, '9\\nJ': 3.3340001333600056e-05, 'f M': 3.3340001333600056e-05, 'gsf': 3.3340001333600056e-05, 'gsä': 3.3340001333600056e-05, 'säu': 3.3340001333600056e-05, 'ng;': 3.3340001333600056e-05, 'g; ': 3.3340001333600056e-05, ', M': 3.3340001333600056e-05, 'ehi': 3.3340001333600056e-05, 'uhä': 3.3340001333600056e-05, 'e ü': 3.3340001333600056e-05, 'Med': 3.3340001333600056e-05, 'd o': 3.3340001333600056e-05, ' Rü': 3.3340001333600056e-05, 'Rüc': 3.3340001333600056e-05, 'Gre': 3.3340001333600056e-05, 'n I': 3.3340001333600056e-05, 'Inf': 3.3340001333600056e-05, 'nfo': 3.3340001333600056e-05, 'rma': 3.3340001333600056e-05, 'mat': 3.3340001333600056e-05, 'eng': 3.3340001333600056e-05, 'gut': 3.3340001333600056e-05, ' em': 3.3340001333600056e-05, 'emp': 3.3340001333600056e-05, 'mpf': 3.3340001333600056e-05, 'pfa': 3.3340001333600056e-05, 'fan': 3.3340001333600056e-05, ' 20': 3.3340001333600056e-05, '20\\n': 3.3340001333600056e-05, '0\\nA': 3.3340001333600056e-05, 'edl': 3.3340001333600056e-05, 'dli': 3.3340001333600056e-05, 'h z': 3.3340001333600056e-05, 'mel': 3.3340001333600056e-05, 'ln ': 3.3340001333600056e-05, 'u V': 3.3340001333600056e-05, 'usc': 3.3340001333600056e-05, 'zug': 3.3340001333600056e-05, 'uge': 3.3340001333600056e-05, 'öre': 3.3340001333600056e-05, '21\\n': 3.3340001333600056e-05, 'tal': 3.3340001333600056e-05, 'Ang': 3.3340001333600056e-05, 'nmi': 3.3340001333600056e-05, 'lba': 3.3340001333600056e-05, 'rtr': 3.3340001333600056e-05, 'Zug': 3.3340001333600056e-05, 'uga': 3.3340001333600056e-05, 'u ö': 3.3340001333600056e-05, 'n Ä': 3.3340001333600056e-05, ' Äm': 3.3340001333600056e-05, 'Ämt': 3.3340001333600056e-05, 'mte': 3.3340001333600056e-05, 'm L': 3.3340001333600056e-05, ' Vo': 3.3340001333600056e-05, 'Vol': 3.3340001333600056e-05, 'olk': 3.3340001333600056e-05, 'kes': 3.3340001333600056e-05, 'Aut': 3.3340001333600056e-05, 'uto': 3.3340001333600056e-05, 'lt;': 3.3340001333600056e-05, 'e m': 3.3340001333600056e-05, 'h r': 3.3340001333600056e-05, 'ge,': 3.3340001333600056e-05, 'rfä': 3.3340001333600056e-05, 'fäl': 3.3340001333600056e-05, 'äls': 3.3340001333600056e-05, 'n m': 3.3340001333600056e-05, 'eim': 3.3340001333600056e-05, 'ime': 3.3340001333600056e-05, 'Sti': 3.3340001333600056e-05, 'tim': 3.3340001333600056e-05, 'imm': 3.3340001333600056e-05, 'mma': 3.3340001333600056e-05, 'mab': 3.3340001333600056e-05, 'abg': 3.3340001333600056e-05, 'bga': 3.3340001333600056e-05, 'be ': 3.3340001333600056e-05, 'm g': 3.3340001333600056e-05, 'hlv': 3.3340001333600056e-05, 'usd': 3.3340001333600056e-05, 'sdr': 3.3340001333600056e-05, 'dru': 3.3340001333600056e-05, 'uck': 3.3340001333600056e-05, 'ck ': 3.3340001333600056e-05, 'k k': 3.3340001333600056e-05, ' ko': 3.3340001333600056e-05, 'kom': 3.3340001333600056e-05, ' 22': 3.3340001333600056e-05, '22\\n': 3.3340001333600056e-05, 'uf,': 3.3340001333600056e-05, 'f, ': 3.3340001333600056e-05, 'erü': 3.3340001333600056e-05, 'r O': 3.3340001333600056e-05, 'ani': 3.3340001333600056e-05, 'isa': 3.3340001333600056e-05, 'sat': 3.3340001333600056e-05, 'l j': 3.3340001333600056e-05, 's i': 3.3340001333600056e-05, 'enu': 3.3340001333600056e-05, 'nuß': 3.3340001333600056e-05, 'irt': 3.3340001333600056e-05, 'd k': 3.3340001333600056e-05, ' ku': 3.3340001333600056e-05, 'kul': 3.3340001333600056e-05, 'tur': 3.3340001333600056e-05, 'ure': 3.3340001333600056e-05, 'rel': 3.3340001333600056e-05, 'ela': 3.3340001333600056e-05, 'rsö': 3.3340001333600056e-05, 'sön': 3.3340001333600056e-05, 'önl': 3.3340001333600056e-05, 'nli': 3.3340001333600056e-05, 'ntb': 3.3340001333600056e-05, 'tbe': 3.3340001333600056e-05, ' 23': 3.3340001333600056e-05, '23\\n': 3.3340001333600056e-05, 'f A': 3.3340001333600056e-05, 'f f': 3.3340001333600056e-05, 'fsw': 3.3340001333600056e-05, 'swa': 3.3340001333600056e-05, 'wah': 3.3340001333600056e-05, 'hl,': 3.3340001333600056e-05, 'z v': 3.3340001333600056e-05, ', o': 3.3340001333600056e-05, ' Lo': 3.3340001333600056e-05, 'Loh': 3.3340001333600056e-05, ' ar': 3.3340001333600056e-05, 'tlo': 3.3340001333600056e-05, 'loh': 3.3340001333600056e-05, 'nts': 3.3340001333600056e-05, 'tsp': 3.3340001333600056e-05, 'pre': 3.3340001333600056e-05, ' Ex': 3.3340001333600056e-05, 'Exi': 3.3340001333600056e-05, 'xis': 3.3340001333600056e-05, 'nz ': 3.3340001333600056e-05, 'enf': 3.3340001333600056e-05, 'nfa': 3.3340001333600056e-05, 'fal': 3.3340001333600056e-05, 'erg': 3.3340001333600056e-05, 'rgä': 3.3340001333600056e-05, 'gän': 3.3340001333600056e-05, 'änz': 3.3340001333600056e-05, 'nzt': 3.3340001333600056e-05, 'tzm': 3.3340001333600056e-05, 'zma': 3.3340001333600056e-05, 'maß': 3.3340001333600056e-05, 'r I': 3.3340001333600056e-05, 'Int': 3.3340001333600056e-05, 'res': 3.3340001333600056e-05, 'ksc': 3.3340001333600056e-05, 'fte': 3.3340001333600056e-05, 'izu': 3.3340001333600056e-05, 'zut': 3.3340001333600056e-05, 'utr': 3.3340001333600056e-05, ' 24': 3.3340001333600056e-05, '24 ': 3.3340001333600056e-05, '4 \\n': 3.3340001333600056e-05, 'f E': 3.3340001333600056e-05, 'Erh': 3.3340001333600056e-05, 'hol': 3.3340001333600056e-05, 'ize': 3.3340001333600056e-05, 'rnü': 3.3340001333600056e-05, 'nün': 3.3340001333600056e-05, 'egr': 3.3340001333600056e-05, 'tsz': 3.3340001333600056e-05, 'sze': 3.3340001333600056e-05, 'd r': 3.3340001333600056e-05, 'bez': 3.3340001333600056e-05, 'eza': 3.3340001333600056e-05, 'zah': 3.3340001333600056e-05, ' Ur': 3.3340001333600056e-05, 'Url': 3.3340001333600056e-05, 'ub.': 3.3340001333600056e-05, 'b. ': 3.3340001333600056e-05, ' 25': 3.3340001333600056e-05, '25\\n': 3.3340001333600056e-05, 'nss': 3.3340001333600056e-05, 'sst': 3.3340001333600056e-05, 'nda': 3.3340001333600056e-05, 'ard': 3.3340001333600056e-05, 'esu': 3.3340001333600056e-05, 'ndh': 3.3340001333600056e-05, 'dhe': 3.3340001333600056e-05, 'd W': 3.3340001333600056e-05, 'l g': 3.3340001333600056e-05, 'h N': 3.3340001333600056e-05, 'Nah': 3.3340001333600056e-05, 'hru': 3.3340001333600056e-05, ' Kl': 3.3340001333600056e-05, 'Kle': 3.3340001333600056e-05, 'idu': 3.3340001333600056e-05, ', W': 3.3340001333600056e-05, ', ä': 3.3340001333600056e-05, ' är': 3.3340001333600056e-05, 'ärz': 3.3340001333600056e-05, 'rzt': 3.3340001333600056e-05, 'ztl': 3.3340001333600056e-05, 'rgu': 3.3340001333600056e-05, 'stu': 3.3340001333600056e-05, ' Kr': 3.3340001333600056e-05, 'Kra': 3.3340001333600056e-05, 'nkh': 3.3340001333600056e-05, 'khe': 3.3340001333600056e-05, ', I': 3.3340001333600056e-05, 'Inv': 3.3340001333600056e-05, 'nva': 3.3340001333600056e-05, 'val': 3.3340001333600056e-05, 'ali': 3.3340001333600056e-05, 'lid': 3.3340001333600056e-05, 'dit': 3.3340001333600056e-05, 'wit': 3.3340001333600056e-05, 'itw': 3.3340001333600056e-05, 'twu': 3.3340001333600056e-05, 'Alt': 3.3340001333600056e-05, 'i a': 3.3340001333600056e-05, 'rwe': 3.3340001333600056e-05, 'm V': 3.3340001333600056e-05, 'rlu': 3.3340001333600056e-05, 'lus': 3.3340001333600056e-05, 'tsm': 3.3340001333600056e-05, 'smi': 3.3340001333600056e-05, 'l d': 3.3340001333600056e-05, ' Um': 3.3340001333600056e-05, 'Ums': 3.3340001333600056e-05, 'mst': 3.3340001333600056e-05, ' \\nM': 3.3340001333600056e-05, '\\nMü': 3.3340001333600056e-05, 'Müt': 3.3340001333600056e-05, 'ütt': 3.3340001333600056e-05, ' Fü': 3.3340001333600056e-05, 'Für': 3.3340001333600056e-05, 'ürs': 3.3340001333600056e-05, 'stü': 3.3340001333600056e-05, 'tüt': 3.3340001333600056e-05, 'e K': 3.3340001333600056e-05, ' eh': 3.3340001333600056e-05, 'e w': 3.3340001333600056e-05, 'auß': 3.3340001333600056e-05, 'reh': 3.3340001333600056e-05, ' 26': 3.3340001333600056e-05, '26\\n': 3.3340001333600056e-05, 'f B': 3.3340001333600056e-05, 'ntg': 3.3340001333600056e-05, 'ltl': 3.3340001333600056e-05, 'ch,': 3.3340001333600056e-05, 'h, ': 3.3340001333600056e-05, 'm m': 3.3340001333600056e-05, ' De': 3.3340001333600056e-05, 'obl': 3.3340001333600056e-05, 'bli': 3.3340001333600056e-05, 'iga': 3.3340001333600056e-05, 'ato': 3.3340001333600056e-05, 'ris': 3.3340001333600056e-05, 'ch.': 3.3340001333600056e-05, 'h. ': 3.3340001333600056e-05, '. F': 3.3340001333600056e-05, 'Fac': 3.3340001333600056e-05, 'ch-': 3.3340001333600056e-05, 'h- ': 3.3340001333600056e-05, 'd B': 3.3340001333600056e-05, 'fss': 3.3340001333600056e-05, 'ssc': 3.3340001333600056e-05, ' mü': 3.3340001333600056e-05, 'müs': 3.3340001333600056e-05, 'üss': 3.3340001333600056e-05, 'füg': 3.3340001333600056e-05, 'ügb': 3.3340001333600056e-05, 'gba': 3.3340001333600056e-05, 'Hoc': 3.3340001333600056e-05, 'hsc': 3.3340001333600056e-05, 'ß a': 3.3340001333600056e-05})\n"
          ]
        }
      ]
    },
    {
      "cell_type": "markdown",
      "source": [
        "Determine the language for a given piece of text"
      ],
      "metadata": {
        "id": "9WN4X6PkOTPl"
      }
    },
    {
      "cell_type": "markdown",
      "source": [
        " cosine similarity\n",
        "\n",
        "\n",
        " ![1_WBDdhE2nIRrXuOUP2HyqKg.webp](data:image/webp;base64,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)"
      ],
      "metadata": {
        "id": "SnuTs32NOXFO"
      }
    },
    {
      "cell_type": "code",
      "source": [
        "import math\n",
        "def calculate_cosine(a: typing.Dict[str, float], b: typing.Dict[str, float]) -> float:\n",
        "    numerator = sum([a[k]*b[k] for k in a if k in b])\n",
        "    denominator = (math.sqrt(sum([a[k]**2 for k in a])) * math.sqrt(sum([b[k]**2 for k in b])))\n",
        "    return numerator / denominator"
      ],
      "metadata": {
        "id": "4F87jsEOMlEw"
      },
      "execution_count": null,
      "outputs": []
    },
    {
      "cell_type": "code",
      "source": [
        "def identify_language(\n",
        "    text: str,\n",
        "    language_models: typing.Dict[str, typing.Dict[str, float]],\n",
        "    n_vals: typing.List[int]\n",
        "    ) -> str:\n",
        "    text_model = build_model(text, n_vals)\n",
        "    language = \"\"\n",
        "    max_c = 0\n",
        "    for m in language_models:\n",
        "        c = calculate_cosine(language_models[m], text_model)\n",
        "        print(f'Language: {m}; similarity with test text: {c}')\n",
        "        if c > max_c:\n",
        "            max_c = c\n",
        "            language = m\n",
        "    return language\n",
        "print(f\"Test text: {text}\")\n",
        "print(f\"Identified language: {identify_language(text, models, n_vals=range(1,4))}\")"
      ],
      "metadata": {
        "colab": {
          "base_uri": "https://localhost:8080/"
        },
        "id": "7JgV6esQMptC",
        "outputId": "dbbfb4ce-f221-4242-d85e-15f99a2b7675"
      },
      "execution_count": null,
      "outputs": [
        {
          "output_type": "stream",
          "name": "stdout",
          "text": [
            "Test text: i was taught that the way of progress was neither swift nor easy.\n",
            "Language: english; similarity with test text: 0.7812347488239613\n",
            "Language: german; similarity with test text: 0.6638235631734796\n",
            "Language: dutch; similarity with test text: 0.6495872103674768\n",
            "Language: french; similarity with test text: 0.7073331083503462\n",
            "Language: italian; similarity with test text: 0.6635204671187273\n",
            "Language: spanish; similarity with test text: 0.6811923819801172\n",
            "Identified language: english\n"
          ]
        }
      ]
    },
    {
      "cell_type": "code",
      "source": [
        "tricky_text = \"učili so me, da pot napredka ni ne hitra ne lahka.\"\n",
        "print(f\"Identified language: {identify_language(tricky_text, models, n_vals=range(1,4))}\")"
      ],
      "metadata": {
        "colab": {
          "base_uri": "https://localhost:8080/"
        },
        "id": "V7GhkTMLMtwp",
        "outputId": "b33ae522-3cd2-4eac-c83f-4e6fad46686a"
      },
      "execution_count": null,
      "outputs": [
        {
          "output_type": "stream",
          "name": "stdout",
          "text": [
            "Language: english; similarity with test text: 0.7287873650203188\n",
            "Language: german; similarity with test text: 0.6721847143945305\n",
            "Language: dutch; similarity with test text: 0.6794130641102911\n",
            "Language: french; similarity with test text: 0.7395592659566902\n",
            "Language: italian; similarity with test text: 0.7673665450525412\n",
            "Language: spanish; similarity with test text: 0.7588017776235897\n",
            "Identified language: italian\n"
          ]
        }
      ]
    },
    {
      "cell_type": "markdown",
      "source": [
        "Test our language detector on different languages\n"
      ],
      "metadata": {
        "id": "AQ9giMKUO9WD"
      }
    },
    {
      "cell_type": "code",
      "source": [
        "t = \"mij werd geleerd dat de weg van vooruitgang noch snel noch gemakkelijk is.\"  \n",
        "print(identify_language(t, models, n_vals=range(1,4)))"
      ],
      "metadata": {
        "colab": {
          "base_uri": "https://localhost:8080/"
        },
        "id": "y0I4r8FbMxG9",
        "outputId": "8d31f81c-7043-497c-8401-84f6dcaa487e"
      },
      "execution_count": null,
      "outputs": [
        {
          "output_type": "stream",
          "name": "stdout",
          "text": [
            "Language: english; similarity with test text: 0.743304897646558\n",
            "Language: german; similarity with test text: 0.7733789879735117\n",
            "Language: dutch; similarity with test text: 0.8097568576218539\n",
            "Language: french; similarity with test text: 0.7323618842369076\n",
            "Language: italian; similarity with test text: 0.7212678466299378\n",
            "Language: spanish; similarity with test text: 0.7427977591261742\n",
            "dutch\n"
          ]
        }
      ]
    },
    {
      "cell_type": "code",
      "source": [
        "t = \"on m'a appris que la voie du progrès n'était ni rapide ni facile.\"  \n",
        "print(identify_language(t, models, n_vals=range(1,4)))"
      ],
      "metadata": {
        "colab": {
          "base_uri": "https://localhost:8080/"
        },
        "id": "C_P9IwuhPFP5",
        "outputId": "e6d3a650-ba19-4ef7-d75c-978560ae2e13"
      },
      "execution_count": null,
      "outputs": [
        {
          "output_type": "stream",
          "name": "stdout",
          "text": [
            "Language: english; similarity with test text: 0.7514819875837305\n",
            "Language: german; similarity with test text: 0.6773504878901836\n",
            "Language: dutch; similarity with test text: 0.6909041495271637\n",
            "Language: french; similarity with test text: 0.7928548637086018\n",
            "Language: italian; similarity with test text: 0.7996222666110279\n",
            "Language: spanish; similarity with test text: 0.7872339328264519\n",
            "italian\n"
          ]
        }
      ]
    },
    {
      "cell_type": "code",
      "source": [
        "t = \"me enseñaron que el camino hacia el progreso no es ni rápido ni fácil.\"\n",
        "print(identify_language(t, models, n_vals=range(1,4)))"
      ],
      "metadata": {
        "colab": {
          "base_uri": "https://localhost:8080/"
        },
        "id": "jKO1auOkPBlE",
        "outputId": "b98d94a5-a8f5-42be-ef9f-44f117d6c364"
      },
      "execution_count": null,
      "outputs": [
        {
          "output_type": "stream",
          "name": "stdout",
          "text": [
            "Language: english; similarity with test text: 0.7682120973467381\n",
            "Language: german; similarity with test text: 0.7126741656089054\n",
            "Language: dutch; similarity with test text: 0.7366143060084208\n",
            "Language: french; similarity with test text: 0.7741780323907502\n",
            "Language: italian; similarity with test text: 0.7987905532144752\n",
            "Language: spanish; similarity with test text: 0.8130592752007245\n",
            "spanish\n"
          ]
        }
      ]
    },
    {
      "cell_type": "code",
      "source": [
        "import nltk\n",
        "from nltk.lm import MLE, Vocabulary\n",
        "from nltk.lm.preprocessing import padded_everygram_pipeline"
      ],
      "metadata": {
        "id": "3QHC3DA_i_vU"
      },
      "execution_count": null,
      "outputs": []
    },
    {
      "cell_type": "markdown",
      "source": [
        "Accuracy of N-Gram Model"
      ],
      "metadata": {
        "id": "VE73-nZ5jgHr"
      }
    },
    {
      "cell_type": "code",
      "source": [
        "n = 3\n",
        "train_data, padded_vocab = padded_everygram_pipeline(n,models['german'])\n",
        "model = MLE(n)\n",
        "model.fit(train_data, padded_vocab)\n",
        "test_data = [word for sent in models['german'] for word in sent]\n",
        "test_vocab = Vocabulary(test_data)\n",
        "perplexity = model.perplexity(test_data)\n",
        "print(perplexity)"
      ],
      "metadata": {
        "colab": {
          "base_uri": "https://localhost:8080/"
        },
        "id": "GNvJolZuiycZ",
        "outputId": "c6a313d9-c284-47f5-fd09-b682463db0c5"
      },
      "execution_count": null,
      "outputs": [
        {
          "output_type": "stream",
          "name": "stdout",
          "text": [
            "84.62920171213617\n"
          ]
        }
      ]
    },
    {
      "cell_type": "markdown",
      "source": [
        "**CONCLUSION** : \n",
        "N-gram analysis can be used to detect the language of a variety of text, including web pages, social media posts, and email messages. The accuracy of language detection using n-gram analysis can be improved by using larger n-gram sizes, combining n-gram analysis with other statistical techniques or machine learning approaches, and using multiple language models to account for variations in dialect and writing styles."
      ],
      "metadata": {
        "id": "AxqDkFjxPILM"
      }
    },
    {
      "cell_type": "markdown",
      "source": [
        "##**Machine** **Learning**\n"
      ],
      "metadata": {
        "id": "gF4O4GESPpTp"
      }
    },
    {
      "cell_type": "markdown",
      "source": [
        "###**Importing all the required libraries for Training the data set**\n"
      ],
      "metadata": {
        "id": "yg7qL1icu7zx"
      }
    },
    {
      "cell_type": "code",
      "execution_count": null,
      "metadata": {
        "id": "A28q61r_uJ7T"
      },
      "outputs": [],
      "source": [
        "import pandas as pd\n",
        "import numpy as np\n",
        "\n",
        "from sklearn.feature_extraction.text import CountVectorizer\n",
        "from sklearn.model_selection import train_test_split\n",
        "from sklearn.naive_bayes import MultinomialNB\n",
        "from sklearn.metrics import classification_report,confusion_matrix\n"
      ]
    },
    {
      "cell_type": "markdown",
      "source": [
        "###**Read the CSV file**\n"
      ],
      "metadata": {
        "id": "YOBiGxFgvOD4"
      }
    },
    {
      "cell_type": "code",
      "source": [
        "data = pd.read_csv(\"https://raw.githubusercontent.com/mohansaidinesh/LanguageDetection/main/dataset.csv\")\n",
        "print(data.head())"
      ],
      "metadata": {
        "colab": {
          "base_uri": "https://localhost:8080/"
        },
        "id": "_0u-hcFkubhr",
        "outputId": "dcd183d9-d770-42f5-ff42-2d301394f2ab"
      },
      "execution_count": null,
      "outputs": [
        {
          "output_type": "stream",
          "name": "stdout",
          "text": [
            "                                                Text  language\n",
            "0  klement gottwaldi surnukeha palsameeriti ning ...  Estonian\n",
            "1  sebes joseph pereira thomas  på eng the jesuit...   Swedish\n",
            "2  ถนนเจริญกรุง อักษรโรมัน thanon charoen krung เ...      Thai\n",
            "3  விசாகப்பட்டினம் தமிழ்ச்சங்கத்தை இந்துப் பத்திர...     Tamil\n",
            "4  de spons behoort tot het geslacht haliclona en...     Dutch\n"
          ]
        }
      ]
    },
    {
      "cell_type": "markdown",
      "source": [
        "###**Now split the data into training data as well as testing data**"
      ],
      "metadata": {
        "id": "67Qn2wDtvoEA"
      }
    },
    {
      "cell_type": "code",
      "source": [
        "x = np.array(data[\"Text\"])\n",
        "y = np.array(data[\"language\"])\n",
        "cv = CountVectorizer()\n",
        "X = cv.fit_transform(x)\n",
        "X_train, X_test, y_train, y_test = train_test_split(X, y, test_size=0.1, random_state=42)"
      ],
      "metadata": {
        "id": "HoHYFKL1vexC"
      },
      "execution_count": null,
      "outputs": []
    },
    {
      "cell_type": "markdown",
      "source": [
        "###**Loading the Multinomial Naive Bayes model for training the model**"
      ],
      "metadata": {
        "id": "LvHsyeMhvvfd"
      }
    },
    {
      "cell_type": "code",
      "source": [
        "model = MultinomialNB()\n"
      ],
      "metadata": {
        "id": "96slvpuwv2V8"
      },
      "execution_count": null,
      "outputs": []
    },
    {
      "cell_type": "markdown",
      "source": [
        "###**Traing the model over the training data**\n",
        "\n"
      ],
      "metadata": {
        "id": "PrRq_C7wwkJX"
      }
    },
    {
      "cell_type": "code",
      "source": [
        "model.fit(X_train,y_train)"
      ],
      "metadata": {
        "colab": {
          "base_uri": "https://localhost:8080/",
          "height": 74
        },
        "id": "w3Y1RnQSv9qX",
        "outputId": "ba0e0f49-3383-4811-97de-b20cc90bfd5f"
      },
      "execution_count": null,
      "outputs": [
        {
          "output_type": "execute_result",
          "data": {
            "text/plain": [
              "MultinomialNB()"
            ],
            "text/html": [
              "<style>#sk-container-id-1 {color: black;background-color: white;}#sk-container-id-1 pre{padding: 0;}#sk-container-id-1 div.sk-toggleable {background-color: white;}#sk-container-id-1 label.sk-toggleable__label {cursor: pointer;display: block;width: 100%;margin-bottom: 0;padding: 0.3em;box-sizing: border-box;text-align: center;}#sk-container-id-1 label.sk-toggleable__label-arrow:before {content: \"▸\";float: left;margin-right: 0.25em;color: #696969;}#sk-container-id-1 label.sk-toggleable__label-arrow:hover:before {color: black;}#sk-container-id-1 div.sk-estimator:hover label.sk-toggleable__label-arrow:before {color: black;}#sk-container-id-1 div.sk-toggleable__content {max-height: 0;max-width: 0;overflow: hidden;text-align: left;background-color: #f0f8ff;}#sk-container-id-1 div.sk-toggleable__content pre {margin: 0.2em;color: black;border-radius: 0.25em;background-color: #f0f8ff;}#sk-container-id-1 input.sk-toggleable__control:checked~div.sk-toggleable__content {max-height: 200px;max-width: 100%;overflow: auto;}#sk-container-id-1 input.sk-toggleable__control:checked~label.sk-toggleable__label-arrow:before {content: \"▾\";}#sk-container-id-1 div.sk-estimator input.sk-toggleable__control:checked~label.sk-toggleable__label {background-color: #d4ebff;}#sk-container-id-1 div.sk-label input.sk-toggleable__control:checked~label.sk-toggleable__label {background-color: #d4ebff;}#sk-container-id-1 input.sk-hidden--visually {border: 0;clip: rect(1px 1px 1px 1px);clip: rect(1px, 1px, 1px, 1px);height: 1px;margin: -1px;overflow: hidden;padding: 0;position: absolute;width: 1px;}#sk-container-id-1 div.sk-estimator {font-family: monospace;background-color: #f0f8ff;border: 1px dotted black;border-radius: 0.25em;box-sizing: border-box;margin-bottom: 0.5em;}#sk-container-id-1 div.sk-estimator:hover {background-color: #d4ebff;}#sk-container-id-1 div.sk-parallel-item::after {content: \"\";width: 100%;border-bottom: 1px solid gray;flex-grow: 1;}#sk-container-id-1 div.sk-label:hover label.sk-toggleable__label {background-color: #d4ebff;}#sk-container-id-1 div.sk-serial::before {content: \"\";position: absolute;border-left: 1px solid gray;box-sizing: border-box;top: 0;bottom: 0;left: 50%;z-index: 0;}#sk-container-id-1 div.sk-serial {display: flex;flex-direction: column;align-items: center;background-color: white;padding-right: 0.2em;padding-left: 0.2em;position: relative;}#sk-container-id-1 div.sk-item {position: relative;z-index: 1;}#sk-container-id-1 div.sk-parallel {display: flex;align-items: stretch;justify-content: center;background-color: white;position: relative;}#sk-container-id-1 div.sk-item::before, #sk-container-id-1 div.sk-parallel-item::before {content: \"\";position: absolute;border-left: 1px solid gray;box-sizing: border-box;top: 0;bottom: 0;left: 50%;z-index: -1;}#sk-container-id-1 div.sk-parallel-item {display: flex;flex-direction: column;z-index: 1;position: relative;background-color: white;}#sk-container-id-1 div.sk-parallel-item:first-child::after {align-self: flex-end;width: 50%;}#sk-container-id-1 div.sk-parallel-item:last-child::after {align-self: flex-start;width: 50%;}#sk-container-id-1 div.sk-parallel-item:only-child::after {width: 0;}#sk-container-id-1 div.sk-dashed-wrapped {border: 1px dashed gray;margin: 0 0.4em 0.5em 0.4em;box-sizing: border-box;padding-bottom: 0.4em;background-color: white;}#sk-container-id-1 div.sk-label label {font-family: monospace;font-weight: bold;display: inline-block;line-height: 1.2em;}#sk-container-id-1 div.sk-label-container {text-align: center;}#sk-container-id-1 div.sk-container {/* jupyter's `normalize.less` sets `[hidden] { display: none; }` but bootstrap.min.css set `[hidden] { display: none !important; }` so we also need the `!important` here to be able to override the default hidden behavior on the sphinx rendered scikit-learn.org. See: https://github.com/scikit-learn/scikit-learn/issues/21755 */display: inline-block !important;position: relative;}#sk-container-id-1 div.sk-text-repr-fallback {display: none;}</style><div id=\"sk-container-id-1\" class=\"sk-top-container\"><div class=\"sk-text-repr-fallback\"><pre>MultinomialNB()</pre><b>In a Jupyter environment, please rerun this cell to show the HTML representation or trust the notebook. <br />On GitHub, the HTML representation is unable to render, please try loading this page with nbviewer.org.</b></div><div class=\"sk-container\" hidden><div class=\"sk-item\"><div class=\"sk-estimator sk-toggleable\"><input class=\"sk-toggleable__control sk-hidden--visually\" id=\"sk-estimator-id-1\" type=\"checkbox\" checked><label for=\"sk-estimator-id-1\" class=\"sk-toggleable__label sk-toggleable__label-arrow\">MultinomialNB</label><div class=\"sk-toggleable__content\"><pre>MultinomialNB()</pre></div></div></div></div></div>"
            ]
          },
          "metadata": {},
          "execution_count": 7
        }
      ]
    },
    {
      "cell_type": "markdown",
      "source": [
        "###**predicting using the model over the x_test data**"
      ],
      "metadata": {
        "id": "DlKXSYtP1aT1"
      }
    },
    {
      "cell_type": "code",
      "source": [
        "y_pred=model.predict(X_test)"
      ],
      "metadata": {
        "id": "LgWq1apP0luS"
      },
      "execution_count": null,
      "outputs": []
    },
    {
      "cell_type": "markdown",
      "source": [
        "###**Getting accuracy of the model over testing data**"
      ],
      "metadata": {
        "id": "evvs6so4w-ot"
      }
    },
    {
      "cell_type": "code",
      "source": [
        "print(\"Accuracy of the model on testing data\",model.score(X_test,y_test))\n"
      ],
      "metadata": {
        "colab": {
          "base_uri": "https://localhost:8080/"
        },
        "id": "ZQ6cbK4Dw6ww",
        "outputId": "4f764dbb-5907-448c-83ea-6ea87c260466"
      },
      "execution_count": null,
      "outputs": [
        {
          "output_type": "stream",
          "name": "stdout",
          "text": [
            "Accuracy of the model on testing data 0.95\n"
          ]
        }
      ]
    },
    {
      "cell_type": "markdown",
      "source": [
        "###**confusion matrix for our model prediction and corresponding actual values**"
      ],
      "metadata": {
        "id": "lkk7kAXR1Btq"
      }
    },
    {
      "cell_type": "code",
      "source": [
        "confusion_matrix(y_test,y_pred)"
      ],
      "metadata": {
        "colab": {
          "base_uri": "https://localhost:8080/"
        },
        "id": "U6Pv_64Y0vv5",
        "outputId": "d7a331d1-82ed-40fb-e43c-8dede78d3060"
      },
      "execution_count": null,
      "outputs": [
        {
          "output_type": "execute_result",
          "data": {
            "text/plain": [
              "array([[113,   0,   0,   0,   0,   0,   0,   0,   0,   0,   0,   0,   0,\n",
              "          0,   0,   0,   0,   0,   0,   0,   0,   0],\n",
              "       [  0,  48,   0,   7,   0,   1,   0,   0,  48,   0,   0,   0,   0,\n",
              "          0,   2,   0,   1,   0,   0,   0,   1,   0],\n",
              "       [  0,   0, 109,   0,   0,   1,   0,   0,   0,   0,   0,   0,   0,\n",
              "          0,   0,   0,   0,   0,   0,   0,   0,   0],\n",
              "       [  0,   0,   0, 102,   0,   0,   0,   0,   0,   0,   0,   0,   0,\n",
              "          0,   0,   0,   0,   0,   0,   0,   0,   0],\n",
              "       [  0,   0,   0,   3,  94,   0,   0,   0,   0,   0,   0,   0,   0,\n",
              "          0,   0,   1,   0,   0,   0,   0,   0,   0],\n",
              "       [  0,   0,   0,   0,   0, 104,   0,   0,   0,   0,   0,   0,   0,\n",
              "          0,   0,   0,   1,   0,   0,   0,   0,   0],\n",
              "       [  0,   0,   0,   2,   0,   0, 110,   0,   0,   0,   0,   0,   0,\n",
              "          0,   0,   0,   0,   0,   0,   0,   0,   0],\n",
              "       [  0,   0,   0,   3,   0,   0,   0,  99,   0,   0,   0,   0,   0,\n",
              "          0,   0,   0,   0,   0,   0,   0,   0,   0],\n",
              "       [  0,   2,   1,   3,   2,   0,   0,   0,  78,   0,   1,   0,   0,\n",
              "          0,   1,   1,   0,   0,   0,   0,   1,   0],\n",
              "       [  0,   0,   0,   0,   0,   0,   0,   0,   1,  86,   0,   0,   0,\n",
              "          0,   0,   0,   0,   0,   0,   0,   0,   0],\n",
              "       [  0,   0,   1,   8,   0,   1,   0,   0,   1,   0,  92,   0,   0,\n",
              "          0,   0,   0,   0,   0,   0,   0,   0,   0],\n",
              "       [  0,   0,   0,   0,   0,   0,   0,   0,   0,   0,   0, 107,   0,\n",
              "          0,   0,   0,   0,   0,   0,   0,   0,   0],\n",
              "       [  0,   0,   1,   2,   0,   0,   0,   0,   0,   0,   0,   0,  95,\n",
              "          0,   0,   0,   0,   0,   0,   0,   0,   0],\n",
              "       [  0,   0,   0,   3,   0,   0,   0,   0,   0,   0,   0,   0,   0,\n",
              "         98,   0,   0,   0,   0,   0,   0,   0,   0],\n",
              "       [  0,   0,   0,   0,   0,   1,   0,   0,   0,   0,   0,   0,   0,\n",
              "          0,  97,   0,   0,   0,   0,   0,   0,   0],\n",
              "       [  0,   0,   0,   0,   0,   0,   0,   0,   0,   0,   0,   0,   0,\n",
              "          0,   0, 110,   0,   0,   0,   0,   0,   0],\n",
              "       [  0,   0,   0,   0,   0,   0,   0,   0,   0,   0,   0,   0,   0,\n",
              "          0,   0,   0,  95,   0,   0,   0,   0,   0],\n",
              "       [  0,   0,   0,   0,   0,   0,   0,   0,   0,   0,   0,   0,   0,\n",
              "          0,   0,   0,   0,  86,   0,   0,   0,   0],\n",
              "       [  0,   0,   0,   1,   0,   0,   0,   0,   0,   0,   0,   0,   0,\n",
              "          0,   0,   0,   0,   0,  92,   0,   0,   0],\n",
              "       [  0,   0,   0,   2,   0,   1,   0,   0,   0,   0,   0,   0,   0,\n",
              "          0,   0,   0,   0,   0,   0,  85,   0,   0],\n",
              "       [  0,   0,   0,   1,   0,   0,   0,   0,   0,   0,   0,   0,   0,\n",
              "          0,   0,   0,   0,   0,   0,   0,  96,   0],\n",
              "       [  0,   0,   0,   3,   0,   0,   0,   0,   0,   0,   0,   0,   0,\n",
              "          0,   0,   0,   0,   0,   0,   0,   0,  94]])"
            ]
          },
          "metadata": {},
          "execution_count": 17
        }
      ]
    },
    {
      "cell_type": "markdown",
      "source": [
        "###**Classification Report**"
      ],
      "metadata": {
        "id": "Sl1kPaXd1uc3"
      }
    },
    {
      "cell_type": "code",
      "source": [
        "print(classification_report(y_test,y_pred))"
      ],
      "metadata": {
        "colab": {
          "base_uri": "https://localhost:8080/"
        },
        "id": "rbYHKVyl03dl",
        "outputId": "b0dcf14e-b618-4305-b12a-aa35873a0840"
      },
      "execution_count": null,
      "outputs": [
        {
          "output_type": "stream",
          "name": "stdout",
          "text": [
            "              precision    recall  f1-score   support\n",
            "\n",
            "      Arabic       1.00      1.00      1.00       113\n",
            "     Chinese       0.96      0.44      0.61       108\n",
            "       Dutch       0.97      0.99      0.98       110\n",
            "     English       0.73      1.00      0.84       102\n",
            "    Estonian       0.98      0.96      0.97        98\n",
            "      French       0.95      0.99      0.97       105\n",
            "       Hindi       1.00      0.98      0.99       112\n",
            "  Indonesian       1.00      0.97      0.99       102\n",
            "    Japanese       0.61      0.87      0.72        90\n",
            "      Korean       1.00      0.99      0.99        87\n",
            "       Latin       0.99      0.89      0.94       103\n",
            "     Persian       1.00      1.00      1.00       107\n",
            "   Portugese       1.00      0.97      0.98        98\n",
            "      Pushto       1.00      0.97      0.98       101\n",
            "    Romanian       0.97      0.99      0.98        98\n",
            "     Russian       0.98      1.00      0.99       110\n",
            "     Spanish       0.98      1.00      0.99        95\n",
            "     Swedish       1.00      1.00      1.00        86\n",
            "       Tamil       1.00      0.99      0.99        93\n",
            "        Thai       1.00      0.97      0.98        88\n",
            "     Turkish       0.98      0.99      0.98        97\n",
            "        Urdu       1.00      0.97      0.98        97\n",
            "\n",
            "    accuracy                           0.95      2200\n",
            "   macro avg       0.96      0.95      0.95      2200\n",
            "weighted avg       0.96      0.95      0.95      2200\n",
            "\n"
          ]
        }
      ]
    },
    {
      "cell_type": "markdown",
      "source": [
        "###**Testing the model performance by giving text manualy**"
      ],
      "metadata": {
        "id": "lKVSK6WdxVUh"
      }
    },
    {
      "cell_type": "markdown",
      "source": [
        "####**Test:1**"
      ],
      "metadata": {
        "id": "k-hS3TUFzmll"
      }
    },
    {
      "cell_type": "code",
      "source": [
        "user = input(\"Enter a Text: \")\n",
        "data = cv.transform([user]).toarray()\n",
        "output = model.predict(data)\n",
        "print(\"language is :\",*output)"
      ],
      "metadata": {
        "colab": {
          "base_uri": "https://localhost:8080/"
        },
        "id": "R2BzX8AOxR02",
        "outputId": "dd66b26b-d51e-41e9-ba73-ebd04e6bc876"
      },
      "execution_count": null,
      "outputs": [
        {
          "output_type": "stream",
          "name": "stdout",
          "text": [
            "Enter a Text: இந்துப்\n",
            "language is : Tamil\n"
          ]
        }
      ]
    },
    {
      "cell_type": "markdown",
      "source": [
        "####**Test:2**"
      ],
      "metadata": {
        "id": "Kmfwxzt0zwHY"
      }
    },
    {
      "cell_type": "code",
      "source": [
        "user = input(\"Enter a Text: \")\n",
        "data = cv.transform([user]).toarray()\n",
        "output = model.predict(data)\n",
        "print(\"language is :\",*output)"
      ],
      "metadata": {
        "colab": {
          "base_uri": "https://localhost:8080/"
        },
        "id": "5v6jYyHTxgxR",
        "outputId": "d6c5b800-0694-4b79-d5f7-d1735c030e9d"
      },
      "execution_count": null,
      "outputs": [
        {
          "output_type": "stream",
          "name": "stdout",
          "text": [
            "Enter a Text: hye who is this\n",
            "language is : English\n"
          ]
        }
      ]
    },
    {
      "cell_type": "markdown",
      "source": [
        "####**Test:3**"
      ],
      "metadata": {
        "id": "Ityl_uibzx7C"
      }
    },
    {
      "cell_type": "code",
      "source": [
        "user = input(\"Enter a Text: \")\n",
        "data = cv.transform([user]).toarray()\n",
        "output = model.predict(data)\n",
        "print(\"language is :\",*output)"
      ],
      "metadata": {
        "colab": {
          "base_uri": "https://localhost:8080/"
        },
        "id": "51mYCiN5xrpV",
        "outputId": "708bf021-067e-40b6-f46e-21ee8b708d74"
      },
      "execution_count": null,
      "outputs": [
        {
          "output_type": "stream",
          "name": "stdout",
          "text": [
            "Enter a Text: एक छोटा हिंदी\n",
            "language is : Hindi\n"
          ]
        }
      ]
    },
    {
      "cell_type": "markdown",
      "source": [
        "####**Conclusion**:\n",
        "  Language detection with 95% accuracy is a significant achievement in the field of natural language processing. With this level of accuracy, it is possible to classify text data with a high degree of confidence, enabling a wide range of applications from content filtering to personalized recommendations. However, it is important to recognize that language detection is still subject to challenges such as dialectal variations, code-switching, and low-resource languages. Further research and development are needed to overcome these obstacles and improve the accuracy of language detection even further, enabling more sophisticated and nuanced applications. Despite these challenges, language detection with 95% accuracy remains an impressive feat that has significant implications for the field of natural language processing and beyond."
      ],
      "metadata": {
        "id": "I9OPsJFIz54B"
      }
    },
    {
      "cell_type": "markdown",
      "source": [
        "##**Deep Learning**"
      ],
      "metadata": {
        "id": "tYFpT3A-acp4"
      }
    },
    {
      "cell_type": "markdown",
      "source": [
        "Deep learning is a popular approach for language detection because it can automatically learn features from data and make accurate predictions based on those features. In the context of language detection, deep learning models can take in text input and output the language of the text.One common deep learning architecture used for language detection is the Convolutional Neural Network (CNN). CNNs can be trained on large datasets of text in different languages, and learn to detect patterns that are specific to each language. "
      ],
      "metadata": {
        "id": "tqG3kXxzap5l"
      }
    },
    {
      "cell_type": "markdown",
      "source": [
        "Imprt required libraries"
      ],
      "metadata": {
        "id": "wALbMxtiayC8"
      }
    },
    {
      "cell_type": "code",
      "source": [
        "from keras.models import Sequential\n",
        "from keras.layers import Dense, Dropout\n",
        "from keras.optimizers import RMSprop\n",
        "from sklearn.model_selection import train_test_split\n",
        "import numpy as np\n",
        "import pandas as pd\n",
        "from sklearn.feature_extraction.text import CountVectorizer\n",
        "vectorizer = CountVectorizer()"
      ],
      "metadata": {
        "id": "lHohgKvta3SX"
      },
      "execution_count": null,
      "outputs": []
    },
    {
      "cell_type": "markdown",
      "source": [
        "Load the dataset\n"
      ],
      "metadata": {
        "id": "HorOyz6Xa5un"
      }
    },
    {
      "cell_type": "code",
      "source": [
        "data_df = pd.read_csv(\"https://raw.githubusercontent.com/mohansaidinesh/LanguageDetection/main/dataset.csv\")"
      ],
      "metadata": {
        "id": "ipGTAg0aa5IV"
      },
      "execution_count": null,
      "outputs": []
    },
    {
      "cell_type": "markdown",
      "source": [
        " Preprocessing the dataset\n"
      ],
      "metadata": {
        "id": "2rnq1Ln_bCyh"
      }
    },
    {
      "cell_type": "code",
      "source": [
        "X = np.array(data_df['Text'])\n",
        "labels = np.array(data_df['language'])"
      ],
      "metadata": {
        "id": "VKqx_6xpbGJm"
      },
      "execution_count": null,
      "outputs": []
    },
    {
      "cell_type": "markdown",
      "source": [
        "Convert labels to integers\n"
      ],
      "metadata": {
        "id": "y02u15dLbIXo"
      }
    },
    {
      "cell_type": "code",
      "source": [
        "classes = np.unique(labels)\n",
        "label_dict = dict(zip(classes, range(len(classes))))\n",
        "y = np.array([label_dict[label] for label in labels])"
      ],
      "metadata": {
        "id": "ZDBUE7W8bJoo"
      },
      "execution_count": null,
      "outputs": []
    },
    {
      "cell_type": "markdown",
      "source": [
        " Split the dataset into training and testing\n"
      ],
      "metadata": {
        "id": "30FX0NoabNmz"
      }
    },
    {
      "cell_type": "code",
      "source": [
        "X_train, X_test, y_train, y_test = train_test_split(X, y, test_size=0.2, random_state=42)"
      ],
      "metadata": {
        "id": "yIy-iUytbOxz"
      },
      "execution_count": null,
      "outputs": []
    },
    {
      "cell_type": "markdown",
      "source": [
        "Convert sentences to vectors using bag-of-words approach"
      ],
      "metadata": {
        "id": "HAh_gbagbS3d"
      }
    },
    {
      "cell_type": "code",
      "source": [
        "from sklearn.feature_extraction.text import CountVectorizer\n",
        "vectorizer = CountVectorizer()\n",
        "X_train = vectorizer.fit_transform(X_train)\n",
        "X_test = vectorizer.transform(X_test)\n",
        "X_train.sort_indices()\n",
        "X_test.sort_indices()"
      ],
      "metadata": {
        "id": "pTa2QahSbWn4"
      },
      "execution_count": null,
      "outputs": []
    },
    {
      "cell_type": "markdown",
      "source": [
        " Build the neural network\n"
      ],
      "metadata": {
        "id": "81TRxgeEbZ9r"
      }
    },
    {
      "cell_type": "code",
      "source": [
        "model = Sequential()\n",
        "model.add(Dense(128, activation='relu', input_shape=(X_train.shape[1],)))\n",
        "model.add(Dropout(0.5))\n",
        "model.add(Dense(len(classes), activation='softmax'))\n",
        "model.summary()\n",
        "model.compile(loss='categorical_crossentropy',\n",
        "              optimizer = RMSprop(lr=0.01),\n",
        "              metrics=['accuracy'])"
      ],
      "metadata": {
        "colab": {
          "base_uri": "https://localhost:8080/"
        },
        "id": "3pnuE-FCbdrb",
        "outputId": "f4995704-5340-4f1c-e3f0-e0890eca741a"
      },
      "execution_count": null,
      "outputs": [
        {
          "output_type": "stream",
          "name": "stdout",
          "text": [
            "Model: \"sequential_13\"\n",
            "_________________________________________________________________\n",
            " Layer (type)                Output Shape              Param #   \n",
            "=================================================================\n",
            " dense_26 (Dense)            (None, 128)               30501632  \n",
            "                                                                 \n",
            " dropout_13 (Dropout)        (None, 128)               0         \n",
            "                                                                 \n",
            " dense_27 (Dense)            (None, 22)                2838      \n",
            "                                                                 \n",
            "=================================================================\n",
            "Total params: 30,504,470\n",
            "Trainable params: 30,504,470\n",
            "Non-trainable params: 0\n",
            "_________________________________________________________________\n"
          ]
        }
      ]
    },
    {
      "cell_type": "markdown",
      "source": [
        " Train the model\n"
      ],
      "metadata": {
        "id": "v9wdriNEbiDq"
      }
    },
    {
      "cell_type": "code",
      "source": [
        "from keras.utils import to_categorical\n",
        "y_train = to_categorical(y_train)\n",
        "y_test = to_categorical(y_test)\n",
        "model.fit(X_train, y_train,\n",
        "          batch_size=32,\n",
        "          epochs=5,\n",
        "          verbose=1,\n",
        "          validation_data=(X_test, y_test))"
      ],
      "metadata": {
        "colab": {
          "base_uri": "https://localhost:8080/"
        },
        "id": "QWylxxs6blhD",
        "outputId": "7be8cd33-9aec-45a4-b198-7825eb29a885"
      },
      "execution_count": null,
      "outputs": [
        {
          "output_type": "stream",
          "name": "stdout",
          "text": [
            "Epoch 1/5\n",
            "550/550 [==============================] - 205s 369ms/step - loss: 0.2400 - accuracy: 0.9438 - val_loss: 0.1408 - val_accuracy: 0.9666\n",
            "Epoch 2/5\n",
            "550/550 [==============================] - 204s 371ms/step - loss: 0.0655 - accuracy: 0.9897 - val_loss: 0.1647 - val_accuracy: 0.9614\n",
            "Epoch 3/5\n",
            "550/550 [==============================] - 204s 371ms/step - loss: 0.0316 - accuracy: 0.9947 - val_loss: 0.1765 - val_accuracy: 0.9602\n",
            "Epoch 4/5\n",
            "550/550 [==============================] - 217s 394ms/step - loss: 0.0143 - accuracy: 0.9971 - val_loss: 0.1937 - val_accuracy: 0.9605\n",
            "Epoch 5/5\n",
            "550/550 [==============================] - 190s 345ms/step - loss: 0.0081 - accuracy: 0.9987 - val_loss: 0.2188 - val_accuracy: 0.9630\n"
          ]
        },
        {
          "output_type": "execute_result",
          "data": {
            "text/plain": [
              "<keras.callbacks.History at 0x7f1c4e5c1f40>"
            ]
          },
          "metadata": {},
          "execution_count": 69
        }
      ]
    },
    {
      "cell_type": "markdown",
      "source": [
        "Evaluate the model"
      ],
      "metadata": {
        "id": "bWC0MECrbpFs"
      }
    },
    {
      "cell_type": "code",
      "source": [
        "score = model.evaluate(X_test, y_test, verbose=0)\n",
        "print('Test loss:', score[0])\n",
        "print('Test accuracy:', score[1])"
      ],
      "metadata": {
        "colab": {
          "base_uri": "https://localhost:8080/"
        },
        "id": "JfYdIlJTbr5I",
        "outputId": "ff138e91-42f5-48b3-d5c9-681e6da27f68"
      },
      "execution_count": null,
      "outputs": [
        {
          "output_type": "stream",
          "name": "stdout",
          "text": [
            "Test loss: 0.21875984966754913\n",
            "Test accuracy: 0.9629545211791992\n"
          ]
        }
      ]
    },
    {
      "cell_type": "markdown",
      "source": [
        "Predict language of a sentence"
      ],
      "metadata": {
        "id": "eDzyWOdwbv55"
      }
    },
    {
      "cell_type": "code",
      "source": [
        "def predict_language(sentence):\n",
        "    sentence_vector = vectorizer.transform([sentence])\n",
        "    prediction = model.predict(sentence_vector)\n",
        "    predicted_label = classes[np.argmax(prediction)]\n",
        "    return predicted_label"
      ],
      "metadata": {
        "id": "8Wq43xyQbzSF"
      },
      "execution_count": null,
      "outputs": []
    },
    {
      "cell_type": "markdown",
      "source": [
        "**Test : 01**"
      ],
      "metadata": {
        "id": "ExXfpIDQb3Jt"
      }
    },
    {
      "cell_type": "code",
      "source": [
        "sentence = \"Je suis un étudiant en informatique.\"\n",
        "language = predict_language(sentence)\n",
        "print(language)"
      ],
      "metadata": {
        "colab": {
          "base_uri": "https://localhost:8080/"
        },
        "id": "RPDlaooFb7zm",
        "outputId": "79763215-43ce-48db-f46a-4947c4fb1d18"
      },
      "execution_count": null,
      "outputs": [
        {
          "output_type": "stream",
          "name": "stdout",
          "text": [
            "1/1 [==============================] - 0s 160ms/step\n",
            "French\n"
          ]
        }
      ]
    },
    {
      "cell_type": "markdown",
      "source": [
        "**Test : 02**"
      ],
      "metadata": {
        "id": "HXVrnZVdfwzz"
      }
    },
    {
      "cell_type": "code",
      "source": [
        "sentence = \"தமிழர்களினதும் தமிழ் பேசும் பலரின் தாய்மொழி ஆகும்\"\n",
        "language = predict_language(sentence)\n",
        "print(language)"
      ],
      "metadata": {
        "colab": {
          "base_uri": "https://localhost:8080/"
        },
        "id": "5b_5ZLEFf0si",
        "outputId": "3430e9cd-4fd8-4c7f-968f-c5f459dfd69e"
      },
      "execution_count": null,
      "outputs": [
        {
          "output_type": "stream",
          "name": "stdout",
          "text": [
            "1/1 [==============================] - 0s 30ms/step\n",
            "Tamil\n"
          ]
        }
      ]
    },
    {
      "cell_type": "markdown",
      "source": [
        "**CONCLUSION** : \n",
        "\n",
        "The convolutional neural network (CNN) achieves 96% accuracy for language detection, it indicates that the model has learned to effectively recognize the patterns and features in different languages, and can accurately distinguish between them. This is a significant achievement, as language detection can be a challenging task due to the many similarities between languages and the lack of clear boundaries between them."
      ],
      "metadata": {
        "id": "WshEJUPwgHDk"
      }
    },
    {
      "cell_type": "markdown",
      "source": [
        "**Overview** : \n",
        "\n",
        "Accuray of models:\n",
        "\n",
        "\n",
        "\n",
        "*   N-Gram Modlel : 84%\n",
        "*   Naive Bayes   : 95%\n",
        "*   CNN Networks  : 96%\n",
        "\n"
      ],
      "metadata": {
        "id": "_F20Pf2cgjNn"
      }
    }
  ]
}